{
 "cells": [
  {
   "cell_type": "code",
   "execution_count": 54,
   "metadata": {},
   "outputs": [],
   "source": [
    "import pandas as pd\n",
    "import itertools\n",
    "import networkx as nx\n",
    "import datetime\n",
    "import matplotlib.pyplot as plt\n",
    "import matplotlib.cm as cm"
   ]
  },
  {
   "cell_type": "code",
   "execution_count": 301,
   "metadata": {},
   "outputs": [],
   "source": [
    "def intersection(lst1, lst2): \n",
    "    return list(set(lst1) & set(lst2))"
   ]
  },
  {
   "cell_type": "code",
   "execution_count": 302,
   "metadata": {},
   "outputs": [],
   "source": [
    "def union(lst1, lst2): \n",
    "    return list(set(lst1) | set(lst2))"
   ]
  },
  {
   "cell_type": "code",
   "execution_count": 305,
   "metadata": {},
   "outputs": [],
   "source": [
    "def jaccard(text_a, text_b):\n",
    "    x = text_a.split(' ')\n",
    "    y = text_b.split(' ')\n",
    "    inter = intersection(x, y)\n",
    "    uni = union(x, y)\n",
    "    return len(inter)/len(uni)"
   ]
  },
  {
   "cell_type": "code",
   "execution_count": 193,
   "metadata": {},
   "outputs": [],
   "source": [
    "def papers_from_idlist(list_papers):\n",
    "    p = papers[papers['idpaper'].isin(list_papers)][['title', 'abstract']].drop_duplicates()\n",
    "    p['joined'] = p['title'].str.cat(p['abstract'], sep=' ')\n",
    "    return ' '.join(list(p['joined']))"
   ]
  },
  {
   "cell_type": "code",
   "execution_count": 194,
   "metadata": {},
   "outputs": [
    {
     "data": {
      "text/plain": [
       "'sparsity-certifying graph decompositions we describe a new algorithm, the $(k,\\\\ell)$-pebble game with colors, and use it obtain a characterization of the family of $(k,\\\\ell)$-sparse graphs and algorithmic solutions to a family of problems concerning tree decompositions of graphs. special instances of sparse graphs appear in rigidity theory and have received increased attention in recent years. in particular, our colored pebbles generalize and strengthen the previous results of lee and streinu and give a new proof of the tutte-nash-williams characterization of arboricity. we also present a new decomposition that certifies sparsity based on the $(k,\\\\ell)$-pebble game with colors. our work also exposes connections between pebble game algorithms and previous sparse graph algorithms by gabow, gabow and westermann and hendrickson.'"
      ]
     },
     "execution_count": 194,
     "metadata": {},
     "output_type": "execute_result"
    }
   ],
   "source": [
    "papers_from_idlist(['704.0002'])"
   ]
  },
  {
   "cell_type": "code",
   "execution_count": 187,
   "metadata": {},
   "outputs": [
    {
     "data": {
      "text/plain": [
       "2495"
      ]
     },
     "execution_count": 187,
     "metadata": {},
     "output_type": "execute_result"
    }
   ],
   "source": [
    "papers = pd.read_json('../datasets/_papers.json')\n",
    "len(papers)"
   ]
  },
  {
   "cell_type": "code",
   "execution_count": 188,
   "metadata": {},
   "outputs": [
    {
     "data": {
      "text/html": [
       "<div>\n",
       "<style scoped>\n",
       "    .dataframe tbody tr th:only-of-type {\n",
       "        vertical-align: middle;\n",
       "    }\n",
       "\n",
       "    .dataframe tbody tr th {\n",
       "        vertical-align: top;\n",
       "    }\n",
       "\n",
       "    .dataframe thead th {\n",
       "        text-align: right;\n",
       "    }\n",
       "</style>\n",
       "<table border=\"1\" class=\"dataframe\">\n",
       "  <thead>\n",
       "    <tr style=\"text-align: right;\">\n",
       "      <th></th>\n",
       "      <th>abstract</th>\n",
       "      <th>area</th>\n",
       "      <th>authors</th>\n",
       "      <th>date_create</th>\n",
       "      <th>idpaper</th>\n",
       "      <th>title</th>\n",
       "    </tr>\n",
       "  </thead>\n",
       "  <tbody>\n",
       "    <tr>\n",
       "      <th>0</th>\n",
       "      <td>we describe a new algorithm, the $(k,\\ell)$-pe...</td>\n",
       "      <td>math.co cs.cg</td>\n",
       "      <td>[streinu, theran]</td>\n",
       "      <td>2007-03-30</td>\n",
       "      <td>704.0002</td>\n",
       "      <td>sparsity-certifying graph decompositions</td>\n",
       "    </tr>\n",
       "    <tr>\n",
       "      <th>1</th>\n",
       "      <td>we describe a new algorithm, the $(k,\\ell)$-pe...</td>\n",
       "      <td>math.co cs.cg</td>\n",
       "      <td>[streinu, theran]</td>\n",
       "      <td>2007-03-30</td>\n",
       "      <td>704.0002</td>\n",
       "      <td>sparsity-certifying graph decompositions</td>\n",
       "    </tr>\n",
       "    <tr>\n",
       "      <th>2</th>\n",
       "      <td>we describe a new algorithm, the $(k,\\ell)$-pe...</td>\n",
       "      <td>math.co cs.cg</td>\n",
       "      <td>[streinu, theran]</td>\n",
       "      <td>2007-03-30</td>\n",
       "      <td>704.0002</td>\n",
       "      <td>sparsity-certifying graph decompositions</td>\n",
       "    </tr>\n",
       "    <tr>\n",
       "      <th>3</th>\n",
       "      <td>we describe a new algorithm, the $(k,\\ell)$-pe...</td>\n",
       "      <td>math.co cs.cg</td>\n",
       "      <td>[streinu, theran]</td>\n",
       "      <td>2007-03-30</td>\n",
       "      <td>704.0002</td>\n",
       "      <td>sparsity-certifying graph decompositions</td>\n",
       "    </tr>\n",
       "    <tr>\n",
       "      <th>4</th>\n",
       "      <td>we describe a new algorithm, the $(k,\\ell)$-pe...</td>\n",
       "      <td>math.co cs.cg</td>\n",
       "      <td>[streinu, theran]</td>\n",
       "      <td>2007-03-30</td>\n",
       "      <td>704.0002</td>\n",
       "      <td>sparsity-certifying graph decompositions</td>\n",
       "    </tr>\n",
       "  </tbody>\n",
       "</table>\n",
       "</div>"
      ],
      "text/plain": [
       "                                            abstract           area  \\\n",
       "0  we describe a new algorithm, the $(k,\\ell)$-pe...  math.co cs.cg   \n",
       "1  we describe a new algorithm, the $(k,\\ell)$-pe...  math.co cs.cg   \n",
       "2  we describe a new algorithm, the $(k,\\ell)$-pe...  math.co cs.cg   \n",
       "3  we describe a new algorithm, the $(k,\\ell)$-pe...  math.co cs.cg   \n",
       "4  we describe a new algorithm, the $(k,\\ell)$-pe...  math.co cs.cg   \n",
       "\n",
       "             authors date_create   idpaper  \\\n",
       "0  [streinu, theran]  2007-03-30  704.0002   \n",
       "1  [streinu, theran]  2007-03-30  704.0002   \n",
       "2  [streinu, theran]  2007-03-30  704.0002   \n",
       "3  [streinu, theran]  2007-03-30  704.0002   \n",
       "4  [streinu, theran]  2007-03-30  704.0002   \n",
       "\n",
       "                                      title  \n",
       "0  sparsity-certifying graph decompositions  \n",
       "1  sparsity-certifying graph decompositions  \n",
       "2  sparsity-certifying graph decompositions  \n",
       "3  sparsity-certifying graph decompositions  \n",
       "4  sparsity-certifying graph decompositions  "
      ]
     },
     "execution_count": 188,
     "metadata": {},
     "output_type": "execute_result"
    }
   ],
   "source": [
    "papers.head()"
   ]
  },
  {
   "cell_type": "code",
   "execution_count": 2,
   "metadata": {},
   "outputs": [
    {
     "data": {
      "text/plain": [
       "2495"
      ]
     },
     "execution_count": 2,
     "metadata": {},
     "output_type": "execute_result"
    }
   ],
   "source": [
    "base = pd.read_json('../datasets/_authors_paper.json')\n",
    "len(base)"
   ]
  },
  {
   "cell_type": "code",
   "execution_count": 3,
   "metadata": {},
   "outputs": [],
   "source": [
    "base['date_create']=base['date_create'].apply(lambda x: datetime.datetime.strptime(x, \"%Y-%m-%d\"))"
   ]
  },
  {
   "cell_type": "code",
   "execution_count": 4,
   "metadata": {},
   "outputs": [],
   "source": [
    "# base = base[base['date_create'] < '2009-01-01']\n",
    "# len(base)"
   ]
  },
  {
   "cell_type": "code",
   "execution_count": 5,
   "metadata": {},
   "outputs": [
    {
     "data": {
      "text/html": [
       "<div>\n",
       "<style scoped>\n",
       "    .dataframe tbody tr th:only-of-type {\n",
       "        vertical-align: middle;\n",
       "    }\n",
       "\n",
       "    .dataframe tbody tr th {\n",
       "        vertical-align: top;\n",
       "    }\n",
       "\n",
       "    .dataframe thead th {\n",
       "        text-align: right;\n",
       "    }\n",
       "</style>\n",
       "<table border=\"1\" class=\"dataframe\">\n",
       "  <thead>\n",
       "    <tr style=\"text-align: right;\">\n",
       "      <th></th>\n",
       "      <th>author_idauthor</th>\n",
       "      <th>date_create</th>\n",
       "      <th>idauthor_paper</th>\n",
       "      <th>paper_idpaper</th>\n",
       "    </tr>\n",
       "  </thead>\n",
       "  <tbody>\n",
       "    <tr>\n",
       "      <th>0</th>\n",
       "      <td>aoz45xyz12</td>\n",
       "      <td>2007-03-30</td>\n",
       "      <td>auz35ppr2</td>\n",
       "      <td>704.0002</td>\n",
       "    </tr>\n",
       "    <tr>\n",
       "      <th>1</th>\n",
       "      <td>aoz26xyz17</td>\n",
       "      <td>2007-03-30</td>\n",
       "      <td>auz70ppr11</td>\n",
       "      <td>704.0002</td>\n",
       "    </tr>\n",
       "    <tr>\n",
       "      <th>2</th>\n",
       "      <td>aoz55xyz4</td>\n",
       "      <td>2007-03-30</td>\n",
       "      <td>auz40ppr10</td>\n",
       "      <td>704.0002</td>\n",
       "    </tr>\n",
       "    <tr>\n",
       "      <th>3</th>\n",
       "      <td>aoz21xyz6</td>\n",
       "      <td>2007-03-30</td>\n",
       "      <td>auz25ppr19</td>\n",
       "      <td>704.0002</td>\n",
       "    </tr>\n",
       "    <tr>\n",
       "      <th>4</th>\n",
       "      <td>aoz40xyz14</td>\n",
       "      <td>2007-03-30</td>\n",
       "      <td>auz5ppr20</td>\n",
       "      <td>704.0002</td>\n",
       "    </tr>\n",
       "  </tbody>\n",
       "</table>\n",
       "</div>"
      ],
      "text/plain": [
       "  author_idauthor date_create idauthor_paper  paper_idpaper\n",
       "0      aoz45xyz12  2007-03-30      auz35ppr2       704.0002\n",
       "1      aoz26xyz17  2007-03-30     auz70ppr11       704.0002\n",
       "2       aoz55xyz4  2007-03-30     auz40ppr10       704.0002\n",
       "3       aoz21xyz6  2007-03-30     auz25ppr19       704.0002\n",
       "4      aoz40xyz14  2007-03-30      auz5ppr20       704.0002"
      ]
     },
     "execution_count": 5,
     "metadata": {},
     "output_type": "execute_result"
    }
   ],
   "source": [
    "base.head()"
   ]
  },
  {
   "cell_type": "code",
   "execution_count": 241,
   "metadata": {},
   "outputs": [],
   "source": [
    "lista_autores = list(base['idauthor_paper'].drop_duplicates())"
   ]
  },
  {
   "cell_type": "code",
   "execution_count": 242,
   "metadata": {},
   "outputs": [],
   "source": [
    "G = nx.Graph()"
   ]
  },
  {
   "cell_type": "code",
   "execution_count": 243,
   "metadata": {},
   "outputs": [],
   "source": [
    "# para cada autor\n",
    "for autor in lista_autores:\n",
    "    # todos os papers do autor\n",
    "    papers_autor = list(base[\n",
    "        (base['idauthor_paper']==autor) & (base['date_create'] < '2007-05-01')\n",
    "    ]['paper_idpaper'])\n",
    "    G.add_node(\n",
    "        autor,\n",
    "        texts=papers_autor,\n",
    "    )"
   ]
  },
  {
   "cell_type": "code",
   "execution_count": 244,
   "metadata": {},
   "outputs": [],
   "source": [
    "# para cada autor\n",
    "for autor in lista_autores:\n",
    "    # todos os papers do autor\n",
    "    papers_autor = list(base[base['idauthor_paper']==autor]['paper_idpaper'])\n",
    "    # todos os coautores dos papers do autor\n",
    "    coautores = list(base[\n",
    "        (base['paper_idpaper'].isin(papers_autor)) & (base['date_create'] < '2007-05-01')\n",
    "    ]['idauthor_paper'])\n",
    "    combinacoes = itertools.combinations(coautores, 2)\n",
    "    for comb in combinacoes:\n",
    "        pessoa1 = comb[0]\n",
    "        pessoa2 = comb[1]\n",
    "        G.add_edge(pessoa1, pessoa2)"
   ]
  },
  {
   "cell_type": "code",
   "execution_count": 245,
   "metadata": {},
   "outputs": [],
   "source": [
    "pos = nx.spring_layout(G)"
   ]
  },
  {
   "cell_type": "code",
   "execution_count": 246,
   "metadata": {},
   "outputs": [
    {
     "name": "stderr",
     "output_type": "stream",
     "text": [
      "/usr/local/lib/python3.6/dist-packages/networkx/drawing/nx_pylab.py:611: MatplotlibDeprecationWarning: isinstance(..., numbers.Number)\n",
      "  if cb.is_numlike(alpha):\n"
     ]
    },
    {
     "data": {
      "image/png": "[encoded data removed]",
      "text/plain": [
       "<Figure size 1080x1080 with 2 Axes>"
      ]
     },
     "metadata": {
      "needs_background": "light"
     },
     "output_type": "display_data"
    }
   ],
   "source": [
    "node_color = [cent for cent in nx.degree_centrality(G).values()]\n",
    "node_size = [100 for node in G.nodes()]\n",
    "plt.figure(figsize=(15,15))\n",
    "ed = nx.draw_networkx_edges(G, pos=pos, alpha=0.3, edge_color='gray')\n",
    "no = nx.draw_networkx_nodes(G, pos=pos, alpha=0.6, with_labels=False, node_color=node_color, \n",
    "                            cmap=cm.jet, vmin=min(list(nx.degree_centrality(G).values())), \n",
    "                            vmax=max(list(nx.degree_centrality(G).values())),\n",
    "                            node_size=node_size)\n",
    "plt.colorbar(no)\n",
    "plt.axis('off')\n",
    "plt.show()"
   ]
  },
  {
   "cell_type": "code",
   "execution_count": 247,
   "metadata": {},
   "outputs": [],
   "source": [
    "length = nx.all_pairs_shortest_path_length(G)"
   ]
  },
  {
   "cell_type": "code",
   "execution_count": 248,
   "metadata": {},
   "outputs": [],
   "source": [
    "distancias = [x for x in length]"
   ]
  },
  {
   "cell_type": "code",
   "execution_count": 249,
   "metadata": {},
   "outputs": [
    {
     "name": "stdout",
     "output_type": "stream",
     "text": [
      "[['auz40ppr10', 'auz40ppr4'], ['auz40ppr10', 'auz30ppr10'], ['auz40ppr10', 'auz100ppr20'], ['auz40ppr10', 'auz105ppr14'], ['auz40ppr10', 'auz5ppr7'], ['auz40ppr10', 'auz45ppr17'], ['auz40ppr10', 'auz55ppr1'], ['auz40ppr10', 'auz5ppr14'], ['auz40ppr10', 'auz45ppr10'], ['auz40ppr10', 'auz90ppr15']]\n"
     ]
    }
   ],
   "source": [
    "authors_dist_2 = []\n",
    "for a in distancias:\n",
    "    p = a[0]\n",
    "    c = a[1]\n",
    "    for co,va in c.items():\n",
    "        if va == 2:\n",
    "            authors_dist_2.append([p, co])\n",
    "print(authors_dist_2[:10])"
   ]
  },
  {
   "cell_type": "code",
   "execution_count": 250,
   "metadata": {},
   "outputs": [],
   "source": [
    "G_futuro = nx.Graph()"
   ]
  },
  {
   "cell_type": "code",
   "execution_count": 251,
   "metadata": {},
   "outputs": [],
   "source": [
    "# para cada autor\n",
    "for autor in lista_autores:\n",
    "    # todos os papers do autor\n",
    "    papers_autor = list(base[\n",
    "        (base['idauthor_paper']==autor) & (base['date_create'] >= '2007-05-01')\n",
    "    ]['paper_idpaper'])\n",
    "    G_futuro.add_node(\n",
    "        autor,\n",
    "        texts=papers_autor,\n",
    "    )"
   ]
  },
  {
   "cell_type": "code",
   "execution_count": 252,
   "metadata": {},
   "outputs": [],
   "source": [
    "# para cada autor\n",
    "for autor in lista_autores:\n",
    "    # todos os papers do autor\n",
    "    papers_autor = list(base[base['idauthor_paper']==autor]['paper_idpaper'])\n",
    "    # todos os coautores dos papers do autor\n",
    "    coautores = list(base[\n",
    "        (base['paper_idpaper'].isin(papers_autor)) & (base['date_create'] >= '2007-05-01')\n",
    "    ]['idauthor_paper'])\n",
    "    combinacoes = itertools.combinations(coautores, 2)\n",
    "    for comb in combinacoes:\n",
    "        pessoa1 = comb[0]\n",
    "        pessoa2 = comb[1]\n",
    "        G_futuro.add_edge(pessoa1, pessoa2)"
   ]
  },
  {
   "cell_type": "code",
   "execution_count": 253,
   "metadata": {},
   "outputs": [
    {
     "data": {
      "text/plain": [
       "['auz35ppr2', 'auz70ppr11', 'auz40ppr10', 'auz25ppr19', 'auz5ppr20']"
      ]
     },
     "execution_count": 253,
     "metadata": {},
     "output_type": "execute_result"
    }
   ],
   "source": [
    "list(G_futuro.nodes())[:5]"
   ]
  },
  {
   "cell_type": "code",
   "execution_count": 254,
   "metadata": {},
   "outputs": [],
   "source": [
    "pos = nx.spring_layout(G_futuro)"
   ]
  },
  {
   "cell_type": "code",
   "execution_count": 255,
   "metadata": {},
   "outputs": [
    {
     "data": {
      "image/png": "[encoded data removed]",
      "text/plain": [
       "<Figure size 1080x1080 with 2 Axes>"
      ]
     },
     "metadata": {
      "needs_background": "light"
     },
     "output_type": "display_data"
    }
   ],
   "source": [
    "node_color = [cent for cent in nx.degree_centrality(G_futuro).values()]\n",
    "node_size = [100 for node in G.nodes()]\n",
    "plt.figure(figsize=(15,15))\n",
    "ed = nx.draw_networkx_edges(G_futuro, pos=pos, alpha=0.3, edge_color='gray')\n",
    "no = nx.draw_networkx_nodes(G_futuro, pos=pos, alpha=0.6, with_labels=False, node_color=node_color, \n",
    "                            cmap=cm.jet, vmin=min(list(nx.degree_centrality(G_futuro).values())), \n",
    "                            vmax=max(list(nx.degree_centrality(G_futuro).values())),\n",
    "                            node_size=node_size)\n",
    "plt.colorbar(no)\n",
    "plt.axis('off')\n",
    "plt.show()"
   ]
  },
  {
   "cell_type": "code",
   "execution_count": 256,
   "metadata": {},
   "outputs": [],
   "source": [
    "ligacoes_futuras = pd.DataFrame(authors_dist_2, columns=['Author_1', 'Author_2'])"
   ]
  },
  {
   "cell_type": "code",
   "execution_count": 257,
   "metadata": {},
   "outputs": [
    {
     "data": {
      "text/html": [
       "<div>\n",
       "<style scoped>\n",
       "    .dataframe tbody tr th:only-of-type {\n",
       "        vertical-align: middle;\n",
       "    }\n",
       "\n",
       "    .dataframe tbody tr th {\n",
       "        vertical-align: top;\n",
       "    }\n",
       "\n",
       "    .dataframe thead th {\n",
       "        text-align: right;\n",
       "    }\n",
       "</style>\n",
       "<table border=\"1\" class=\"dataframe\">\n",
       "  <thead>\n",
       "    <tr style=\"text-align: right;\">\n",
       "      <th></th>\n",
       "      <th>Author_1</th>\n",
       "      <th>Author_2</th>\n",
       "    </tr>\n",
       "  </thead>\n",
       "  <tbody>\n",
       "    <tr>\n",
       "      <th>0</th>\n",
       "      <td>auz40ppr10</td>\n",
       "      <td>auz40ppr4</td>\n",
       "    </tr>\n",
       "    <tr>\n",
       "      <th>1</th>\n",
       "      <td>auz40ppr10</td>\n",
       "      <td>auz30ppr10</td>\n",
       "    </tr>\n",
       "    <tr>\n",
       "      <th>2</th>\n",
       "      <td>auz40ppr10</td>\n",
       "      <td>auz100ppr20</td>\n",
       "    </tr>\n",
       "    <tr>\n",
       "      <th>3</th>\n",
       "      <td>auz40ppr10</td>\n",
       "      <td>auz105ppr14</td>\n",
       "    </tr>\n",
       "    <tr>\n",
       "      <th>4</th>\n",
       "      <td>auz40ppr10</td>\n",
       "      <td>auz5ppr7</td>\n",
       "    </tr>\n",
       "  </tbody>\n",
       "</table>\n",
       "</div>"
      ],
      "text/plain": [
       "     Author_1     Author_2\n",
       "0  auz40ppr10    auz40ppr4\n",
       "1  auz40ppr10   auz30ppr10\n",
       "2  auz40ppr10  auz100ppr20\n",
       "3  auz40ppr10  auz105ppr14\n",
       "4  auz40ppr10     auz5ppr7"
      ]
     },
     "execution_count": 257,
     "metadata": {},
     "output_type": "execute_result"
    }
   ],
   "source": [
    "ligacoes_futuras.head()"
   ]
  },
  {
   "cell_type": "code",
   "execution_count": 258,
   "metadata": {},
   "outputs": [],
   "source": [
    "ligacoes_futuras['label'] = ligacoes_futuras.apply(\n",
    "    lambda lig: G_futuro.has_edge(lig['Author_1'], lig['Author_2']) or \n",
    "    G_futuro.has_edge(lig['Author_2'], lig['Author_1']), axis=1)"
   ]
  },
  {
   "cell_type": "code",
   "execution_count": 265,
   "metadata": {},
   "outputs": [
    {
     "data": {
      "text/html": [
       "<div>\n",
       "<style scoped>\n",
       "    .dataframe tbody tr th:only-of-type {\n",
       "        vertical-align: middle;\n",
       "    }\n",
       "\n",
       "    .dataframe tbody tr th {\n",
       "        vertical-align: top;\n",
       "    }\n",
       "\n",
       "    .dataframe thead th {\n",
       "        text-align: right;\n",
       "    }\n",
       "</style>\n",
       "<table border=\"1\" class=\"dataframe\">\n",
       "  <thead>\n",
       "    <tr style=\"text-align: right;\">\n",
       "      <th></th>\n",
       "      <th>Author_1</th>\n",
       "      <th>Author_2</th>\n",
       "      <th>label</th>\n",
       "    </tr>\n",
       "  </thead>\n",
       "  <tbody>\n",
       "    <tr>\n",
       "      <th>0</th>\n",
       "      <td>auz40ppr10</td>\n",
       "      <td>auz40ppr4</td>\n",
       "      <td>False</td>\n",
       "    </tr>\n",
       "    <tr>\n",
       "      <th>1</th>\n",
       "      <td>auz40ppr10</td>\n",
       "      <td>auz30ppr10</td>\n",
       "      <td>False</td>\n",
       "    </tr>\n",
       "    <tr>\n",
       "      <th>2</th>\n",
       "      <td>auz40ppr10</td>\n",
       "      <td>auz100ppr20</td>\n",
       "      <td>False</td>\n",
       "    </tr>\n",
       "    <tr>\n",
       "      <th>3</th>\n",
       "      <td>auz40ppr10</td>\n",
       "      <td>auz105ppr14</td>\n",
       "      <td>False</td>\n",
       "    </tr>\n",
       "    <tr>\n",
       "      <th>4</th>\n",
       "      <td>auz40ppr10</td>\n",
       "      <td>auz5ppr7</td>\n",
       "      <td>False</td>\n",
       "    </tr>\n",
       "  </tbody>\n",
       "</table>\n",
       "</div>"
      ],
      "text/plain": [
       "     Author_1     Author_2  label\n",
       "0  auz40ppr10    auz40ppr4  False\n",
       "1  auz40ppr10   auz30ppr10  False\n",
       "2  auz40ppr10  auz100ppr20  False\n",
       "3  auz40ppr10  auz105ppr14  False\n",
       "4  auz40ppr10     auz5ppr7  False"
      ]
     },
     "execution_count": 265,
     "metadata": {},
     "output_type": "execute_result"
    }
   ],
   "source": [
    "ligacoes_futuras.head()"
   ]
  },
  {
   "cell_type": "code",
   "execution_count": 259,
   "metadata": {},
   "outputs": [
    {
     "data": {
      "text/plain": [
       "876"
      ]
     },
     "execution_count": 259,
     "metadata": {},
     "output_type": "execute_result"
    }
   ],
   "source": [
    "len(ligacoes_futuras)"
   ]
  },
  {
   "cell_type": "code",
   "execution_count": 260,
   "metadata": {},
   "outputs": [
    {
     "data": {
      "text/plain": [
       "92"
      ]
     },
     "execution_count": 260,
     "metadata": {},
     "output_type": "execute_result"
    }
   ],
   "source": [
    "len(ligacoes_futuras[ligacoes_futuras['label'] == True])"
   ]
  },
  {
   "cell_type": "code",
   "execution_count": 279,
   "metadata": {},
   "outputs": [
    {
     "data": {
      "text/html": [
       "<div>\n",
       "<style scoped>\n",
       "    .dataframe tbody tr th:only-of-type {\n",
       "        vertical-align: middle;\n",
       "    }\n",
       "\n",
       "    .dataframe tbody tr th {\n",
       "        vertical-align: top;\n",
       "    }\n",
       "\n",
       "    .dataframe thead th {\n",
       "        text-align: right;\n",
       "    }\n",
       "</style>\n",
       "<table border=\"1\" class=\"dataframe\">\n",
       "  <thead>\n",
       "    <tr style=\"text-align: right;\">\n",
       "      <th></th>\n",
       "      <th>author</th>\n",
       "      <th>texts</th>\n",
       "    </tr>\n",
       "  </thead>\n",
       "  <tbody>\n",
       "    <tr>\n",
       "      <th>0</th>\n",
       "      <td>auz40ppr10</td>\n",
       "      <td>sparsity-certifying graph decompositions we de...</td>\n",
       "    </tr>\n",
       "    <tr>\n",
       "      <th>10</th>\n",
       "      <td>auz5ppr20</td>\n",
       "      <td>sparsity-certifying graph decompositions we de...</td>\n",
       "    </tr>\n",
       "    <tr>\n",
       "      <th>12</th>\n",
       "      <td>auz85ppr14</td>\n",
       "      <td>sparsity-certifying graph decompositions we de...</td>\n",
       "    </tr>\n",
       "    <tr>\n",
       "      <th>17</th>\n",
       "      <td>auz40ppr2</td>\n",
       "      <td>sparsity-certifying graph decompositions we de...</td>\n",
       "    </tr>\n",
       "    <tr>\n",
       "      <th>20</th>\n",
       "      <td>auz20ppr14</td>\n",
       "      <td>sparsity-certifying graph decompositions we de...</td>\n",
       "    </tr>\n",
       "  </tbody>\n",
       "</table>\n",
       "</div>"
      ],
      "text/plain": [
       "        author                                              texts\n",
       "0   auz40ppr10  sparsity-certifying graph decompositions we de...\n",
       "10   auz5ppr20  sparsity-certifying graph decompositions we de...\n",
       "12  auz85ppr14  sparsity-certifying graph decompositions we de...\n",
       "17   auz40ppr2  sparsity-certifying graph decompositions we de...\n",
       "20  auz20ppr14  sparsity-certifying graph decompositions we de..."
      ]
     },
     "execution_count": 279,
     "metadata": {},
     "output_type": "execute_result"
    }
   ],
   "source": [
    "base_author = pd.DataFrame()\n",
    "base_author['author'] = pd.concat([ligacoes_futuras['Author_1'], ligacoes_futuras['Author_2']]).drop_duplicates()\n",
    "base_author['texts'] = base_author['author'].apply(lambda x: papers_from_idlist(G.node[x]['texts']))\n",
    "base_author.head()"
   ]
  },
  {
   "cell_type": "code",
   "execution_count": 298,
   "metadata": {},
   "outputs": [],
   "source": [
    "texto_a = base_author[base_author['author']==ligacoes_futuras['Author_1'][1]]['texts'].values[0]"
   ]
  },
  {
   "cell_type": "code",
   "execution_count": 299,
   "metadata": {},
   "outputs": [],
   "source": [
    "texto_b = base_author[base_author['author']==ligacoes_futuras['Author_2'][1]]['texts'].values[0]"
   ]
  },
  {
   "cell_type": "code",
   "execution_count": 308,
   "metadata": {},
   "outputs": [
    {
     "data": {
      "text/plain": [
       "0.0728744939271255"
      ]
     },
     "execution_count": 308,
     "metadata": {},
     "output_type": "execute_result"
    }
   ],
   "source": [
    "jaccard(texto_a, texto_b)"
   ]
  },
  {
   "cell_type": "code",
   "execution_count": 318,
   "metadata": {},
   "outputs": [],
   "source": [
    "def calculo_jaccard(dupla):\n",
    "    texto_a = base_author[base_author['author']==dupla['Author_1']]['texts'].values[0]\n",
    "    texto_b = base_author[base_author['author']==dupla['Author_2']]['texts'].values[0]\n",
    "    return jaccard(texto_a, texto_b)"
   ]
  },
  {
   "cell_type": "code",
   "execution_count": 319,
   "metadata": {},
   "outputs": [],
   "source": [
    "ligacoes_futuras['jaccard'] = ligacoes_futuras.apply(calculo_jaccard, axis=1)"
   ]
  },
  {
   "cell_type": "code",
   "execution_count": 322,
   "metadata": {},
   "outputs": [
    {
     "data": {
      "text/html": [
       "<div>\n",
       "<style scoped>\n",
       "    .dataframe tbody tr th:only-of-type {\n",
       "        vertical-align: middle;\n",
       "    }\n",
       "\n",
       "    .dataframe tbody tr th {\n",
       "        vertical-align: top;\n",
       "    }\n",
       "\n",
       "    .dataframe thead th {\n",
       "        text-align: right;\n",
       "    }\n",
       "</style>\n",
       "<table border=\"1\" class=\"dataframe\">\n",
       "  <thead>\n",
       "    <tr style=\"text-align: right;\">\n",
       "      <th></th>\n",
       "      <th>Author_1</th>\n",
       "      <th>Author_2</th>\n",
       "      <th>label</th>\n",
       "      <th>jaccard</th>\n",
       "    </tr>\n",
       "  </thead>\n",
       "  <tbody>\n",
       "    <tr>\n",
       "      <th>32</th>\n",
       "      <td>auz35ppr21</td>\n",
       "      <td>auz45ppr17</td>\n",
       "      <td>True</td>\n",
       "      <td>0.075676</td>\n",
       "    </tr>\n",
       "    <tr>\n",
       "      <th>47</th>\n",
       "      <td>auz50ppr14</td>\n",
       "      <td>auz50ppr13</td>\n",
       "      <td>True</td>\n",
       "      <td>0.083333</td>\n",
       "    </tr>\n",
       "    <tr>\n",
       "      <th>54</th>\n",
       "      <td>auz50ppr14</td>\n",
       "      <td>auz105ppr14</td>\n",
       "      <td>True</td>\n",
       "      <td>0.126866</td>\n",
       "    </tr>\n",
       "    <tr>\n",
       "      <th>57</th>\n",
       "      <td>auz50ppr14</td>\n",
       "      <td>auz55ppr1</td>\n",
       "      <td>True</td>\n",
       "      <td>0.084337</td>\n",
       "    </tr>\n",
       "    <tr>\n",
       "      <th>59</th>\n",
       "      <td>auz50ppr14</td>\n",
       "      <td>auz45ppr10</td>\n",
       "      <td>True</td>\n",
       "      <td>0.083333</td>\n",
       "    </tr>\n",
       "    <tr>\n",
       "      <th>60</th>\n",
       "      <td>auz45ppr3</td>\n",
       "      <td>auz5ppr14</td>\n",
       "      <td>True</td>\n",
       "      <td>0.087629</td>\n",
       "    </tr>\n",
       "    <tr>\n",
       "      <th>61</th>\n",
       "      <td>auz45ppr3</td>\n",
       "      <td>auz45ppr10</td>\n",
       "      <td>True</td>\n",
       "      <td>0.100000</td>\n",
       "    </tr>\n",
       "    <tr>\n",
       "      <th>96</th>\n",
       "      <td>auz60ppr3</td>\n",
       "      <td>auz100ppr20</td>\n",
       "      <td>True</td>\n",
       "      <td>0.094059</td>\n",
       "    </tr>\n",
       "    <tr>\n",
       "      <th>98</th>\n",
       "      <td>auz60ppr3</td>\n",
       "      <td>auz105ppr14</td>\n",
       "      <td>True</td>\n",
       "      <td>0.114458</td>\n",
       "    </tr>\n",
       "    <tr>\n",
       "      <th>101</th>\n",
       "      <td>auz60ppr3</td>\n",
       "      <td>auz55ppr1</td>\n",
       "      <td>True</td>\n",
       "      <td>0.086294</td>\n",
       "    </tr>\n",
       "    <tr>\n",
       "      <th>103</th>\n",
       "      <td>auz60ppr3</td>\n",
       "      <td>auz45ppr10</td>\n",
       "      <td>True</td>\n",
       "      <td>0.130841</td>\n",
       "    </tr>\n",
       "    <tr>\n",
       "      <th>110</th>\n",
       "      <td>auz55ppr9</td>\n",
       "      <td>auz55ppr1</td>\n",
       "      <td>True</td>\n",
       "      <td>0.081081</td>\n",
       "    </tr>\n",
       "    <tr>\n",
       "      <th>111</th>\n",
       "      <td>auz35ppr14</td>\n",
       "      <td>auz85ppr13</td>\n",
       "      <td>True</td>\n",
       "      <td>0.083045</td>\n",
       "    </tr>\n",
       "    <tr>\n",
       "      <th>117</th>\n",
       "      <td>auz10ppr13</td>\n",
       "      <td>auz55ppr1</td>\n",
       "      <td>True</td>\n",
       "      <td>0.073314</td>\n",
       "    </tr>\n",
       "    <tr>\n",
       "      <th>119</th>\n",
       "      <td>auz25ppr1</td>\n",
       "      <td>auz85ppr13</td>\n",
       "      <td>True</td>\n",
       "      <td>0.086331</td>\n",
       "    </tr>\n",
       "    <tr>\n",
       "      <th>131</th>\n",
       "      <td>auz20ppr17</td>\n",
       "      <td>auz105ppr14</td>\n",
       "      <td>True</td>\n",
       "      <td>0.085714</td>\n",
       "    </tr>\n",
       "    <tr>\n",
       "      <th>135</th>\n",
       "      <td>auz60ppr11</td>\n",
       "      <td>auz85ppr13</td>\n",
       "      <td>True</td>\n",
       "      <td>0.097421</td>\n",
       "    </tr>\n",
       "    <tr>\n",
       "      <th>137</th>\n",
       "      <td>auz60ppr11</td>\n",
       "      <td>auz105ppr14</td>\n",
       "      <td>True</td>\n",
       "      <td>0.083067</td>\n",
       "    </tr>\n",
       "    <tr>\n",
       "      <th>138</th>\n",
       "      <td>auz60ppr11</td>\n",
       "      <td>auz5ppr7</td>\n",
       "      <td>True</td>\n",
       "      <td>0.089820</td>\n",
       "    </tr>\n",
       "    <tr>\n",
       "      <th>140</th>\n",
       "      <td>auz60ppr11</td>\n",
       "      <td>auz55ppr1</td>\n",
       "      <td>True</td>\n",
       "      <td>0.085546</td>\n",
       "    </tr>\n",
       "    <tr>\n",
       "      <th>141</th>\n",
       "      <td>auz75ppr5</td>\n",
       "      <td>auz105ppr14</td>\n",
       "      <td>True</td>\n",
       "      <td>0.078212</td>\n",
       "    </tr>\n",
       "    <tr>\n",
       "      <th>142</th>\n",
       "      <td>auz60ppr15</td>\n",
       "      <td>auz105ppr14</td>\n",
       "      <td>True</td>\n",
       "      <td>0.064748</td>\n",
       "    </tr>\n",
       "    <tr>\n",
       "      <th>144</th>\n",
       "      <td>auz85ppr1</td>\n",
       "      <td>auz105ppr14</td>\n",
       "      <td>True</td>\n",
       "      <td>0.095541</td>\n",
       "    </tr>\n",
       "    <tr>\n",
       "      <th>146</th>\n",
       "      <td>auz10ppr21</td>\n",
       "      <td>auz105ppr14</td>\n",
       "      <td>True</td>\n",
       "      <td>0.082949</td>\n",
       "    </tr>\n",
       "    <tr>\n",
       "      <th>150</th>\n",
       "      <td>auz75ppr14</td>\n",
       "      <td>auz45ppr17</td>\n",
       "      <td>True</td>\n",
       "      <td>0.099602</td>\n",
       "    </tr>\n",
       "    <tr>\n",
       "      <th>156</th>\n",
       "      <td>auz25ppr18</td>\n",
       "      <td>auz45ppr17</td>\n",
       "      <td>True</td>\n",
       "      <td>0.079208</td>\n",
       "    </tr>\n",
       "    <tr>\n",
       "      <th>157</th>\n",
       "      <td>auz25ppr18</td>\n",
       "      <td>auz5ppr14</td>\n",
       "      <td>True</td>\n",
       "      <td>0.069409</td>\n",
       "    </tr>\n",
       "    <tr>\n",
       "      <th>167</th>\n",
       "      <td>auz30ppr19</td>\n",
       "      <td>auz30ppr10</td>\n",
       "      <td>True</td>\n",
       "      <td>0.068807</td>\n",
       "    </tr>\n",
       "    <tr>\n",
       "      <th>202</th>\n",
       "      <td>auz55ppr1</td>\n",
       "      <td>auz50ppr13</td>\n",
       "      <td>True</td>\n",
       "      <td>0.075472</td>\n",
       "    </tr>\n",
       "    <tr>\n",
       "      <th>203</th>\n",
       "      <td>auz55ppr1</td>\n",
       "      <td>auz55ppr9</td>\n",
       "      <td>True</td>\n",
       "      <td>0.081081</td>\n",
       "    </tr>\n",
       "    <tr>\n",
       "      <th>...</th>\n",
       "      <td>...</td>\n",
       "      <td>...</td>\n",
       "      <td>...</td>\n",
       "      <td>...</td>\n",
       "    </tr>\n",
       "    <tr>\n",
       "      <th>525</th>\n",
       "      <td>auz100ppr20</td>\n",
       "      <td>auz30ppr10</td>\n",
       "      <td>True</td>\n",
       "      <td>0.095808</td>\n",
       "    </tr>\n",
       "    <tr>\n",
       "      <th>599</th>\n",
       "      <td>auz50ppr13</td>\n",
       "      <td>auz50ppr14</td>\n",
       "      <td>True</td>\n",
       "      <td>0.083333</td>\n",
       "    </tr>\n",
       "    <tr>\n",
       "      <th>606</th>\n",
       "      <td>auz50ppr13</td>\n",
       "      <td>auz55ppr1</td>\n",
       "      <td>True</td>\n",
       "      <td>0.075472</td>\n",
       "    </tr>\n",
       "    <tr>\n",
       "      <th>611</th>\n",
       "      <td>auz15ppr16</td>\n",
       "      <td>auz95ppr13</td>\n",
       "      <td>True</td>\n",
       "      <td>0.085561</td>\n",
       "    </tr>\n",
       "    <tr>\n",
       "      <th>616</th>\n",
       "      <td>auz15ppr16</td>\n",
       "      <td>auz30ppr7</td>\n",
       "      <td>True</td>\n",
       "      <td>0.076923</td>\n",
       "    </tr>\n",
       "    <tr>\n",
       "      <th>621</th>\n",
       "      <td>auz15ppr16</td>\n",
       "      <td>auz100ppr5</td>\n",
       "      <td>True</td>\n",
       "      <td>0.082803</td>\n",
       "    </tr>\n",
       "    <tr>\n",
       "      <th>628</th>\n",
       "      <td>auz15ppr16</td>\n",
       "      <td>auz35ppr11</td>\n",
       "      <td>True</td>\n",
       "      <td>0.082803</td>\n",
       "    </tr>\n",
       "    <tr>\n",
       "      <th>636</th>\n",
       "      <td>auz15ppr16</td>\n",
       "      <td>auz105ppr14</td>\n",
       "      <td>True</td>\n",
       "      <td>0.075269</td>\n",
       "    </tr>\n",
       "    <tr>\n",
       "      <th>640</th>\n",
       "      <td>auz15ppr16</td>\n",
       "      <td>auz5ppr14</td>\n",
       "      <td>True</td>\n",
       "      <td>0.096591</td>\n",
       "    </tr>\n",
       "    <tr>\n",
       "      <th>650</th>\n",
       "      <td>auz85ppr7</td>\n",
       "      <td>auz95ppr17</td>\n",
       "      <td>True</td>\n",
       "      <td>0.087719</td>\n",
       "    </tr>\n",
       "    <tr>\n",
       "      <th>683</th>\n",
       "      <td>auz45ppr10</td>\n",
       "      <td>auz60ppr3</td>\n",
       "      <td>True</td>\n",
       "      <td>0.130841</td>\n",
       "    </tr>\n",
       "    <tr>\n",
       "      <th>691</th>\n",
       "      <td>auz45ppr10</td>\n",
       "      <td>auz45ppr3</td>\n",
       "      <td>True</td>\n",
       "      <td>0.100000</td>\n",
       "    </tr>\n",
       "    <tr>\n",
       "      <th>698</th>\n",
       "      <td>auz45ppr10</td>\n",
       "      <td>auz50ppr14</td>\n",
       "      <td>True</td>\n",
       "      <td>0.083333</td>\n",
       "    </tr>\n",
       "    <tr>\n",
       "      <th>707</th>\n",
       "      <td>auz45ppr10</td>\n",
       "      <td>auz55ppr1</td>\n",
       "      <td>True</td>\n",
       "      <td>0.083700</td>\n",
       "    </tr>\n",
       "    <tr>\n",
       "      <th>722</th>\n",
       "      <td>auz105ppr14</td>\n",
       "      <td>auz10ppr21</td>\n",
       "      <td>True</td>\n",
       "      <td>0.082949</td>\n",
       "    </tr>\n",
       "    <tr>\n",
       "      <th>733</th>\n",
       "      <td>auz105ppr14</td>\n",
       "      <td>auz60ppr15</td>\n",
       "      <td>True</td>\n",
       "      <td>0.064748</td>\n",
       "    </tr>\n",
       "    <tr>\n",
       "      <th>743</th>\n",
       "      <td>auz105ppr14</td>\n",
       "      <td>auz20ppr17</td>\n",
       "      <td>True</td>\n",
       "      <td>0.085714</td>\n",
       "    </tr>\n",
       "    <tr>\n",
       "      <th>744</th>\n",
       "      <td>auz105ppr14</td>\n",
       "      <td>auz60ppr11</td>\n",
       "      <td>True</td>\n",
       "      <td>0.083067</td>\n",
       "    </tr>\n",
       "    <tr>\n",
       "      <th>745</th>\n",
       "      <td>auz105ppr14</td>\n",
       "      <td>auz75ppr5</td>\n",
       "      <td>True</td>\n",
       "      <td>0.078212</td>\n",
       "    </tr>\n",
       "    <tr>\n",
       "      <th>747</th>\n",
       "      <td>auz105ppr14</td>\n",
       "      <td>auz85ppr1</td>\n",
       "      <td>True</td>\n",
       "      <td>0.095541</td>\n",
       "    </tr>\n",
       "    <tr>\n",
       "      <th>752</th>\n",
       "      <td>auz105ppr14</td>\n",
       "      <td>auz60ppr3</td>\n",
       "      <td>True</td>\n",
       "      <td>0.114458</td>\n",
       "    </tr>\n",
       "    <tr>\n",
       "      <th>754</th>\n",
       "      <td>auz105ppr14</td>\n",
       "      <td>auz15ppr16</td>\n",
       "      <td>True</td>\n",
       "      <td>0.075269</td>\n",
       "    </tr>\n",
       "    <tr>\n",
       "      <th>757</th>\n",
       "      <td>auz105ppr14</td>\n",
       "      <td>auz50ppr14</td>\n",
       "      <td>True</td>\n",
       "      <td>0.126866</td>\n",
       "    </tr>\n",
       "    <tr>\n",
       "      <th>775</th>\n",
       "      <td>auz45ppr17</td>\n",
       "      <td>auz25ppr18</td>\n",
       "      <td>True</td>\n",
       "      <td>0.079208</td>\n",
       "    </tr>\n",
       "    <tr>\n",
       "      <th>794</th>\n",
       "      <td>auz45ppr17</td>\n",
       "      <td>auz35ppr21</td>\n",
       "      <td>True</td>\n",
       "      <td>0.075676</td>\n",
       "    </tr>\n",
       "    <tr>\n",
       "      <th>825</th>\n",
       "      <td>auz45ppr17</td>\n",
       "      <td>auz75ppr14</td>\n",
       "      <td>True</td>\n",
       "      <td>0.099602</td>\n",
       "    </tr>\n",
       "    <tr>\n",
       "      <th>830</th>\n",
       "      <td>auz45ppr17</td>\n",
       "      <td>auz20ppr3</td>\n",
       "      <td>True</td>\n",
       "      <td>0.075688</td>\n",
       "    </tr>\n",
       "    <tr>\n",
       "      <th>843</th>\n",
       "      <td>auz45ppr17</td>\n",
       "      <td>auz5ppr14</td>\n",
       "      <td>True</td>\n",
       "      <td>0.099338</td>\n",
       "    </tr>\n",
       "    <tr>\n",
       "      <th>862</th>\n",
       "      <td>auz30ppr10</td>\n",
       "      <td>auz100ppr20</td>\n",
       "      <td>True</td>\n",
       "      <td>0.095808</td>\n",
       "    </tr>\n",
       "    <tr>\n",
       "      <th>867</th>\n",
       "      <td>auz30ppr10</td>\n",
       "      <td>auz30ppr19</td>\n",
       "      <td>True</td>\n",
       "      <td>0.068807</td>\n",
       "    </tr>\n",
       "  </tbody>\n",
       "</table>\n",
       "<p>92 rows × 4 columns</p>\n",
       "</div>"
      ],
      "text/plain": [
       "        Author_1     Author_2  label   jaccard\n",
       "32    auz35ppr21   auz45ppr17   True  0.075676\n",
       "47    auz50ppr14   auz50ppr13   True  0.083333\n",
       "54    auz50ppr14  auz105ppr14   True  0.126866\n",
       "57    auz50ppr14    auz55ppr1   True  0.084337\n",
       "59    auz50ppr14   auz45ppr10   True  0.083333\n",
       "60     auz45ppr3    auz5ppr14   True  0.087629\n",
       "61     auz45ppr3   auz45ppr10   True  0.100000\n",
       "96     auz60ppr3  auz100ppr20   True  0.094059\n",
       "98     auz60ppr3  auz105ppr14   True  0.114458\n",
       "101    auz60ppr3    auz55ppr1   True  0.086294\n",
       "103    auz60ppr3   auz45ppr10   True  0.130841\n",
       "110    auz55ppr9    auz55ppr1   True  0.081081\n",
       "111   auz35ppr14   auz85ppr13   True  0.083045\n",
       "117   auz10ppr13    auz55ppr1   True  0.073314\n",
       "119    auz25ppr1   auz85ppr13   True  0.086331\n",
       "131   auz20ppr17  auz105ppr14   True  0.085714\n",
       "135   auz60ppr11   auz85ppr13   True  0.097421\n",
       "137   auz60ppr11  auz105ppr14   True  0.083067\n",
       "138   auz60ppr11     auz5ppr7   True  0.089820\n",
       "140   auz60ppr11    auz55ppr1   True  0.085546\n",
       "141    auz75ppr5  auz105ppr14   True  0.078212\n",
       "142   auz60ppr15  auz105ppr14   True  0.064748\n",
       "144    auz85ppr1  auz105ppr14   True  0.095541\n",
       "146   auz10ppr21  auz105ppr14   True  0.082949\n",
       "150   auz75ppr14   auz45ppr17   True  0.099602\n",
       "156   auz25ppr18   auz45ppr17   True  0.079208\n",
       "157   auz25ppr18    auz5ppr14   True  0.069409\n",
       "167   auz30ppr19   auz30ppr10   True  0.068807\n",
       "202    auz55ppr1   auz50ppr13   True  0.075472\n",
       "203    auz55ppr1    auz55ppr9   True  0.081081\n",
       "..           ...          ...    ...       ...\n",
       "525  auz100ppr20   auz30ppr10   True  0.095808\n",
       "599   auz50ppr13   auz50ppr14   True  0.083333\n",
       "606   auz50ppr13    auz55ppr1   True  0.075472\n",
       "611   auz15ppr16   auz95ppr13   True  0.085561\n",
       "616   auz15ppr16    auz30ppr7   True  0.076923\n",
       "621   auz15ppr16   auz100ppr5   True  0.082803\n",
       "628   auz15ppr16   auz35ppr11   True  0.082803\n",
       "636   auz15ppr16  auz105ppr14   True  0.075269\n",
       "640   auz15ppr16    auz5ppr14   True  0.096591\n",
       "650    auz85ppr7   auz95ppr17   True  0.087719\n",
       "683   auz45ppr10    auz60ppr3   True  0.130841\n",
       "691   auz45ppr10    auz45ppr3   True  0.100000\n",
       "698   auz45ppr10   auz50ppr14   True  0.083333\n",
       "707   auz45ppr10    auz55ppr1   True  0.083700\n",
       "722  auz105ppr14   auz10ppr21   True  0.082949\n",
       "733  auz105ppr14   auz60ppr15   True  0.064748\n",
       "743  auz105ppr14   auz20ppr17   True  0.085714\n",
       "744  auz105ppr14   auz60ppr11   True  0.083067\n",
       "745  auz105ppr14    auz75ppr5   True  0.078212\n",
       "747  auz105ppr14    auz85ppr1   True  0.095541\n",
       "752  auz105ppr14    auz60ppr3   True  0.114458\n",
       "754  auz105ppr14   auz15ppr16   True  0.075269\n",
       "757  auz105ppr14   auz50ppr14   True  0.126866\n",
       "775   auz45ppr17   auz25ppr18   True  0.079208\n",
       "794   auz45ppr17   auz35ppr21   True  0.075676\n",
       "825   auz45ppr17   auz75ppr14   True  0.099602\n",
       "830   auz45ppr17    auz20ppr3   True  0.075688\n",
       "843   auz45ppr17    auz5ppr14   True  0.099338\n",
       "862   auz30ppr10  auz100ppr20   True  0.095808\n",
       "867   auz30ppr10   auz30ppr19   True  0.068807\n",
       "\n",
       "[92 rows x 4 columns]"
      ]
     },
     "execution_count": 322,
     "metadata": {},
     "output_type": "execute_result"
    }
   ],
   "source": [
    "ligacoes_futuras[ligacoes_futuras['label']==True]"
   ]
  },
  {
   "cell_type": "code",
   "execution_count": null,
   "metadata": {},
   "outputs": [],
   "source": []
  }
 ],
 "metadata": {
  "kernelspec": {
   "display_name": "Python 3",
   "language": "python",
   "name": "python3"
  },
  "language_info": {
   "codemirror_mode": {
    "name": "ipython",
    "version": 3
   },
   "file_extension": ".py",
   "mimetype": "text/x-python",
   "name": "python",
   "nbconvert_exporter": "python",
   "pygments_lexer": "ipython3",
   "version": "3.6.7"
  }
 },
 "nbformat": 4,
 "nbformat_minor": 2
}
