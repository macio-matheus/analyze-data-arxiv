{
 "cells": [
  {
   "cell_type": "code",
   "execution_count": 1,
   "metadata": {},
   "outputs": [],
   "source": [
    "import pandas as pd\n",
    "import networkx as nx\n",
    "import datetime\n",
    "import matplotlib.pyplot as plt\n",
    "import matplotlib.cm as cm"
   ]
  },
  {
   "cell_type": "code",
   "execution_count": 2,
   "metadata": {},
   "outputs": [
    {
     "data": {
      "text/plain": [
       "2495"
      ]
     },
     "execution_count": 2,
     "metadata": {},
     "output_type": "execute_result"
    }
   ],
   "source": [
    "base = pd.read_json('../datasets/_authors_paper.json')\n",
    "len(base)"
   ]
  },
  {
   "cell_type": "code",
   "execution_count": 3,
   "metadata": {},
   "outputs": [],
   "source": [
    "base['date_create']=base['date_create'].apply(lambda x: datetime.datetime.strptime(x, \"%Y-%m-%d\"))"
   ]
  },
  {
   "cell_type": "code",
   "execution_count": 4,
   "metadata": {},
   "outputs": [],
   "source": [
    "# base = base[base['date_create'] < '2009-01-01']\n",
    "# len(base)"
   ]
  },
  {
   "cell_type": "code",
   "execution_count": null,
   "metadata": {},
   "outputs": [
    {
     "data": {
      "text/html": [
       "<div>\n",
       "<style scoped>\n",
       "    .dataframe tbody tr th:only-of-type {\n",
       "        vertical-align: middle;\n",
       "    }\n",
       "\n",
       "    .dataframe tbody tr th {\n",
       "        vertical-align: top;\n",
       "    }\n",
       "\n",
       "    .dataframe thead th {\n",
       "        text-align: right;\n",
       "    }\n",
       "</style>\n",
       "<table border=\"1\" class=\"dataframe\">\n",
       "  <thead>\n",
       "    <tr style=\"text-align: right;\">\n",
       "      <th></th>\n",
       "      <th>author_idauthor</th>\n",
       "      <th>date_create</th>\n",
       "      <th>idauthor_paper</th>\n",
       "      <th>paper_idpaper</th>\n",
       "    </tr>\n",
       "  </thead>\n",
       "  <tbody>\n",
       "    <tr>\n",
       "      <th>0</th>\n",
       "      <td>aoz45xyz12</td>\n",
       "      <td>2007-03-30</td>\n",
       "      <td>auz35ppr2</td>\n",
       "      <td>704.0002</td>\n",
       "    </tr>\n",
       "    <tr>\n",
       "      <th>1</th>\n",
       "      <td>aoz26xyz17</td>\n",
       "      <td>2007-03-30</td>\n",
       "      <td>auz70ppr11</td>\n",
       "      <td>704.0002</td>\n",
       "    </tr>\n",
       "    <tr>\n",
       "      <th>2</th>\n",
       "      <td>aoz55xyz4</td>\n",
       "      <td>2007-03-30</td>\n",
       "      <td>auz40ppr10</td>\n",
       "      <td>704.0002</td>\n",
       "    </tr>\n",
       "    <tr>\n",
       "      <th>3</th>\n",
       "      <td>aoz21xyz6</td>\n",
       "      <td>2007-03-30</td>\n",
       "      <td>auz25ppr19</td>\n",
       "      <td>704.0002</td>\n",
       "    </tr>\n",
       "    <tr>\n",
       "      <th>4</th>\n",
       "      <td>aoz40xyz14</td>\n",
       "      <td>2007-03-30</td>\n",
       "      <td>auz5ppr20</td>\n",
       "      <td>704.0002</td>\n",
       "    </tr>\n",
       "  </tbody>\n",
       "</table>\n",
       "</div>"
      ],
      "text/plain": [
       "  author_idauthor date_create idauthor_paper  paper_idpaper\n",
       "0      aoz45xyz12  2007-03-30      auz35ppr2       704.0002\n",
       "1      aoz26xyz17  2007-03-30     auz70ppr11       704.0002\n",
       "2       aoz55xyz4  2007-03-30     auz40ppr10       704.0002\n",
       "3       aoz21xyz6  2007-03-30     auz25ppr19       704.0002\n",
       "4      aoz40xyz14  2007-03-30      auz5ppr20       704.0002"
      ]
     },
     "execution_count": 5,
     "metadata": {},
     "output_type": "execute_result"
    }
   ],
   "source": [
    "base.head()"
   ]
  },
  {
   "cell_type": "code",
   "execution_count": null,
   "metadata": {},
   "outputs": [],
   "source": [
    "G = nx.Graph()"
   ]
  },
  {
   "cell_type": "code",
   "execution_count": null,
   "metadata": {},
   "outputs": [],
   "source": [
    "for _, b in base.iterrows():\n",
    "    if b['date_create'] <= datetime.datetime.strptime('2009-01-01', \"%Y-%m-%d\"):\n",
    "        G.add_edge(b['author_idauthor'], \n",
    "                   b['idauthor_paper'],\n",
    "                   papers=b['paper_idpaper'])"
   ]
  },
  {
   "cell_type": "code",
   "execution_count": null,
   "metadata": {},
   "outputs": [],
   "source": [
    "pos = nx.spring_layout(G)"
   ]
  },
  {
   "cell_type": "code",
   "execution_count": null,
   "metadata": {},
   "outputs": [],
   "source": [
    "node_color = [cent for cent in nx.degree_centrality(G).values()]\n",
    "node_size = [100 for node in G.nodes()]\n",
    "plt.figure(figsize=(15,15))\n",
    "ed = nx.draw_networkx_edges(G, pos=pos, alpha=0.3, edge_color='gray')\n",
    "no = nx.draw_networkx_nodes(G, pos=pos, alpha=0.6, with_labels=False, node_color=node_color, \n",
    "                            cmap=cm.jet, vmin=min(list(nx.degree_centrality(G).values())), \n",
    "                            vmax=max(list(nx.degree_centrality(G).values())),\n",
    "                            node_size=node_size)\n",
    "plt.colorbar(no)\n",
    "plt.axis('off')\n",
    "plt.show()"
   ]
  },
  {
   "cell_type": "code",
   "execution_count": null,
   "metadata": {},
   "outputs": [],
   "source": [
    "length = nx.all_pairs_shortest_path_length(G)"
   ]
  },
  {
   "cell_type": "code",
   "execution_count": null,
   "metadata": {},
   "outputs": [],
   "source": [
    "distancias = [x for x in length]"
   ]
  },
  {
   "cell_type": "code",
   "execution_count": null,
   "metadata": {},
   "outputs": [],
   "source": [
    "authors_dist_2 = []\n",
    "for a in distancias:\n",
    "    principal = a[0]\n",
    "    coautores = a[1]\n",
    "    for co,va in coautores.items():\n",
    "        if va == 2:\n",
    "            authors_dist_2.append([principal, co])\n",
    "print(authors_dist_2[:10])"
   ]
  },
  {
   "cell_type": "code",
   "execution_count": null,
   "metadata": {},
   "outputs": [],
   "source": [
    "G_futuro = nx.Graph()"
   ]
  },
  {
   "cell_type": "code",
   "execution_count": null,
   "metadata": {},
   "outputs": [],
   "source": [
    "for _, b in base.iterrows():\n",
    "    if b['date_create'] > datetime.datetime.strptime('2007-12-31', \"%Y-%m-%d\"):\n",
    "        G_futuro.add_edge(b['author_idauthor'], \n",
    "                           b['idauthor_paper'],\n",
    "                           papers=b['paper_idpaper'])"
   ]
  },
  {
   "cell_type": "code",
   "execution_count": null,
   "metadata": {},
   "outputs": [],
   "source": [
    "list(G_futuro.nodes())[:5]"
   ]
  },
  {
   "cell_type": "code",
   "execution_count": null,
   "metadata": {},
   "outputs": [],
   "source": [
    "pos = nx.spring_layout(G_futuro)"
   ]
  },
  {
   "cell_type": "code",
   "execution_count": null,
   "metadata": {},
   "outputs": [],
   "source": [
    "node_color = [cent for cent in nx.degree_centrality(G_futuro).values()]\n",
    "node_size = [100 for node in G.nodes()]\n",
    "plt.figure(figsize=(15,15))\n",
    "ed = nx.draw_networkx_edges(G_futuro, pos=pos, alpha=0.3, edge_color='gray')\n",
    "no = nx.draw_networkx_nodes(G_futuro, pos=pos, alpha=0.6, with_labels=False, node_color=node_color, \n",
    "                            cmap=cm.jet, vmin=min(list(nx.degree_centrality(G_futuro).values())), \n",
    "                            vmax=max(list(nx.degree_centrality(G_futuro).values())),\n",
    "                            node_size=node_size)\n",
    "plt.colorbar(no)\n",
    "plt.axis('off')\n",
    "plt.show()"
   ]
  },
  {
   "cell_type": "code",
   "execution_count": null,
   "metadata": {},
   "outputs": [],
   "source": [
    "authors_dist_2[0:5]"
   ]
  },
  {
   "cell_type": "code",
   "execution_count": null,
   "metadata": {},
   "outputs": [],
   "source": [
    "ligacoes_futuras = pd.DataFrame(authors_dist_2, columns=['Author_1', 'Author_2'])"
   ]
  },
  {
   "cell_type": "code",
   "execution_count": null,
   "metadata": {},
   "outputs": [],
   "source": [
    "ligacoes_futuras.head()"
   ]
  },
  {
   "cell_type": "code",
   "execution_count": null,
   "metadata": {},
   "outputs": [],
   "source": [
    "ligacoes_futuras['label'] = ligacoes_futuras.apply(\n",
    "    lambda lig: G_futuro.has_edge(lig['Author_1'], lig['Author_2']), axis=1)"
   ]
  },
  {
   "cell_type": "code",
   "execution_count": null,
   "metadata": {},
   "outputs": [],
   "source": [
    "coefs = nx.jaccard_coefficient(G, authors_dist_2)\n"
   ]
  },
  {
   "cell_type": "code",
   "execution_count": null,
   "metadata": {},
   "outputs": [],
   "source": [
    "for u, v, p in coefs:\n",
    "    print((u, v, p))"
   ]
  },
  {
   "cell_type": "code",
   "execution_count": null,
   "metadata": {},
   "outputs": [],
   "source": []
  }
 ],
 "metadata": {
  "kernelspec": {
   "display_name": "Python 3",
   "language": "python",
   "name": "python3"
  },
  "language_info": {
   "codemirror_mode": {
    "name": "ipython",
    "version": 3
   },
   "file_extension": ".py",
   "mimetype": "text/x-python",
   "name": "python",
   "nbconvert_exporter": "python",
   "pygments_lexer": "ipython3",
   "version": "3.6.3"
  }
 },
 "nbformat": 4,
 "nbformat_minor": 2
}
