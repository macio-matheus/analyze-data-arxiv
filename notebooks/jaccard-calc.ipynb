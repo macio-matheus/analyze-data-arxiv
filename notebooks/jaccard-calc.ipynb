{
 "cells": [
  {
   "cell_type": "code",
   "execution_count": 24,
   "metadata": {},
   "outputs": [],
   "source": [
    "import pandas as pd\n",
    "import networkx as nx\n",
    "import datetime\n",
    "import matplotlib.pyplot as plt\n",
    "import matplotlib.cm as cm"
   ]
  },
  {
   "cell_type": "code",
   "execution_count": null,
   "metadata": {},
   "outputs": [],
   "source": [
    "!wget https://www.dropbox.com/s/sk56fzydtswm0ox/_author_paper_filter.json -P ../datasets/"
   ]
  },
  {
   "cell_type": "code",
   "execution_count": 25,
   "metadata": {},
   "outputs": [
    {
     "data": {
      "text/plain": [
       "1217278"
      ]
     },
     "execution_count": 25,
     "metadata": {},
     "output_type": "execute_result"
    }
   ],
   "source": [
    "base = pd.read_json('../datasets/_author_paper_filter.json')\n",
    "len(base)"
   ]
  },
  {
   "cell_type": "code",
   "execution_count": 26,
   "metadata": {},
   "outputs": [],
   "source": [
    "base['date_create']=base['date_create'].apply(lambda x: datetime.datetime.strptime(x, \"%Y-%m-%d\"))"
   ]
  },
  {
   "cell_type": "code",
   "execution_count": 27,
   "metadata": {},
   "outputs": [],
   "source": [
    "# base = base[base['date_create'] < '2009-01-01']\n",
    "# len(base)"
   ]
  },
  {
   "cell_type": "code",
   "execution_count": 28,
   "metadata": {},
   "outputs": [
    {
     "data": {
      "text/html": [
       "<div>\n",
       "<style scoped>\n",
       "    .dataframe tbody tr th:only-of-type {\n",
       "        vertical-align: middle;\n",
       "    }\n",
       "\n",
       "    .dataframe tbody tr th {\n",
       "        vertical-align: top;\n",
       "    }\n",
       "\n",
       "    .dataframe thead th {\n",
       "        text-align: right;\n",
       "    }\n",
       "</style>\n",
       "<table border=\"1\" class=\"dataframe\">\n",
       "  <thead>\n",
       "    <tr style=\"text-align: right;\">\n",
       "      <th></th>\n",
       "      <th>author_idauthor</th>\n",
       "      <th>date_create</th>\n",
       "      <th>paper_idpaper</th>\n",
       "    </tr>\n",
       "  </thead>\n",
       "  <tbody>\n",
       "    <tr>\n",
       "      <th>1716429</th>\n",
       "      <td>auth_85_1</td>\n",
       "      <td>2004-02-12</td>\n",
       "      <td>astro-ph/0402324</td>\n",
       "    </tr>\n",
       "    <tr>\n",
       "      <th>1716430</th>\n",
       "      <td>auth_106_12</td>\n",
       "      <td>2004-02-12</td>\n",
       "      <td>astro-ph/0402324</td>\n",
       "    </tr>\n",
       "    <tr>\n",
       "      <th>1716431</th>\n",
       "      <td>auth_100_13</td>\n",
       "      <td>2004-02-12</td>\n",
       "      <td>astro-ph/0402324</td>\n",
       "    </tr>\n",
       "    <tr>\n",
       "      <th>1716432</th>\n",
       "      <td>auth_55_8</td>\n",
       "      <td>2004-02-12</td>\n",
       "      <td>astro-ph/0402324</td>\n",
       "    </tr>\n",
       "    <tr>\n",
       "      <th>1716433</th>\n",
       "      <td>auth_81_17</td>\n",
       "      <td>2004-02-12</td>\n",
       "      <td>astro-ph/0402324</td>\n",
       "    </tr>\n",
       "  </tbody>\n",
       "</table>\n",
       "</div>"
      ],
      "text/plain": [
       "        author_idauthor date_create     paper_idpaper\n",
       "1716429       auth_85_1  2004-02-12  astro-ph/0402324\n",
       "1716430     auth_106_12  2004-02-12  astro-ph/0402324\n",
       "1716431     auth_100_13  2004-02-12  astro-ph/0402324\n",
       "1716432       auth_55_8  2004-02-12  astro-ph/0402324\n",
       "1716433      auth_81_17  2004-02-12  astro-ph/0402324"
      ]
     },
     "execution_count": 28,
     "metadata": {},
     "output_type": "execute_result"
    }
   ],
   "source": [
    "base.head()"
   ]
  },
  {
   "cell_type": "code",
   "execution_count": 29,
   "metadata": {},
   "outputs": [],
   "source": [
    "G = nx.Graph()"
   ]
  },
  {
   "cell_type": "code",
   "execution_count": 36,
   "metadata": {},
   "outputs": [],
   "source": [
    "for _, b in base.iterrows():\n",
    "    if b['date_create'] <= datetime.datetime.strptime('2005-01-01', \"%Y-%m-%d\"):\n",
    "        G.add_edge(b['author_idauthor'], \n",
    "                   b['date_create'],\n",
    "                   papers=b['paper_idpaper'])"
   ]
  },
  {
   "cell_type": "code",
   "execution_count": 37,
   "metadata": {},
   "outputs": [],
   "source": [
    "pos = nx.spring_layout(G)"
   ]
  },
  {
   "cell_type": "code",
   "execution_count": null,
   "metadata": {},
   "outputs": [],
   "source": [
    "node_color = [cent for cent in nx.degree_centrality(G).values()]\n",
    "node_size = [100 for node in G.nodes()]\n",
    "plt.figure(figsize=(15,15))\n",
    "ed = nx.draw_networkx_edges(G, pos=pos, alpha=0.3, edge_color='gray')\n",
    "no = nx.draw_networkx_nodes(G, pos=pos, alpha=0.6, with_labels=False, node_color=node_color, \n",
    "                            cmap=cm.jet, vmin=min(list(nx.degree_centrality(G).values())), \n",
    "                            vmax=max(list(nx.degree_centrality(G).values())),\n",
    "                            node_size=node_size)\n",
    "plt.colorbar(no)\n",
    "plt.axis('off')\n",
    "plt.show()"
   ]
  },
  {
   "cell_type": "code",
   "execution_count": null,
   "metadata": {},
   "outputs": [],
   "source": [
    "length = nx.all_pairs_shortest_path_length(G)"
   ]
  },
  {
   "cell_type": "code",
   "execution_count": null,
   "metadata": {},
   "outputs": [],
   "source": [
    "distancias = [x for x in length]"
   ]
  },
  {
   "cell_type": "code",
   "execution_count": null,
   "metadata": {},
   "outputs": [],
   "source": [
    "authors_dist_2 = []\n",
    "for a in distancias:\n",
    "    principal = a[0]\n",
    "    coautores = a[1]\n",
    "    for co,va in coautores.items():\n",
    "        if va == 2:\n",
    "            authors_dist_2.append([principal, co])\n",
    "print(authors_dist_2[:10])"
   ]
  },
  {
   "cell_type": "code",
   "execution_count": null,
   "metadata": {},
   "outputs": [],
   "source": [
    "G_futuro = nx.Graph()"
   ]
  },
  {
   "cell_type": "code",
   "execution_count": null,
   "metadata": {},
   "outputs": [],
   "source": [
    "for _, b in base.iterrows():\n",
    "    if b['date_create'] > datetime.datetime.strptime('2007-12-31', \"%Y-%m-%d\"):\n",
    "        G_futuro.add_edge(b['author_idauthor'], \n",
    "                           b['idauthor_paper'],\n",
    "                           papers=b['paper_idpaper'])"
   ]
  },
  {
   "cell_type": "code",
   "execution_count": null,
   "metadata": {},
   "outputs": [],
   "source": [
    "list(G_futuro.nodes())[:5]"
   ]
  },
  {
   "cell_type": "code",
   "execution_count": null,
   "metadata": {},
   "outputs": [],
   "source": [
    "pos = nx.spring_layout(G_futuro)"
   ]
  },
  {
   "cell_type": "code",
   "execution_count": null,
   "metadata": {},
   "outputs": [],
   "source": [
    "node_color = [cent for cent in nx.degree_centrality(G_futuro).values()]\n",
    "node_size = [100 for node in G.nodes()]\n",
    "plt.figure(figsize=(15,15))\n",
    "ed = nx.draw_networkx_edges(G_futuro, pos=pos, alpha=0.3, edge_color='gray')\n",
    "no = nx.draw_networkx_nodes(G_futuro, pos=pos, alpha=0.6, with_labels=False, node_color=node_color, \n",
    "                            cmap=cm.jet, vmin=min(list(nx.degree_centrality(G_futuro).values())), \n",
    "                            vmax=max(list(nx.degree_centrality(G_futuro).values())),\n",
    "                            node_size=node_size)\n",
    "plt.colorbar(no)\n",
    "plt.axis('off')\n",
    "plt.show()"
   ]
  },
  {
   "cell_type": "code",
   "execution_count": null,
   "metadata": {},
   "outputs": [],
   "source": [
    "authors_dist_2[0:5]"
   ]
  },
  {
   "cell_type": "code",
   "execution_count": null,
   "metadata": {},
   "outputs": [],
   "source": [
    "ligacoes_futuras = pd.DataFrame(authors_dist_2, columns=['Author_1', 'Author_2'])"
   ]
  },
  {
   "cell_type": "code",
   "execution_count": null,
   "metadata": {},
   "outputs": [],
   "source": [
    "ligacoes_futuras.head()"
   ]
  },
  {
   "cell_type": "code",
   "execution_count": null,
   "metadata": {},
   "outputs": [],
   "source": [
    "ligacoes_futuras['label'] = ligacoes_futuras.apply(\n",
    "    lambda lig: G_futuro.has_edge(lig['Author_1'], lig['Author_2']), axis=1)"
   ]
  },
  {
   "cell_type": "code",
   "execution_count": null,
   "metadata": {},
   "outputs": [],
   "source": [
    "coefs = nx.jaccard_coefficient(G, authors_dist_2)\n"
   ]
  },
  {
   "cell_type": "code",
   "execution_count": null,
   "metadata": {},
   "outputs": [],
   "source": [
    "for u, v, p in coefs:\n",
    "    print((u, v, p))"
   ]
  },
  {
   "cell_type": "code",
   "execution_count": null,
   "metadata": {},
   "outputs": [],
   "source": []
  }
 ],
 "metadata": {
  "kernelspec": {
   "display_name": "Python 3",
   "language": "python",
   "name": "python3"
  },
  "language_info": {
   "codemirror_mode": {
    "name": "ipython",
    "version": 3
   },
   "file_extension": ".py",
   "mimetype": "text/x-python",
   "name": "python",
   "nbconvert_exporter": "python",
   "pygments_lexer": "ipython3",
   "version": "3.6.3"
  }
 },
 "nbformat": 4,
 "nbformat_minor": 2
}
