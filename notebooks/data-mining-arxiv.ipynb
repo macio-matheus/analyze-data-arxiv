{
 "cells": [
  {
   "cell_type": "code",
   "execution_count": 1,
   "metadata": {},
   "outputs": [],
   "source": [
    "import pandas as pd\n",
    "import numpy as np\n",
    "import arxivscraper\n",
    "from random import randint\n",
    "import matplotlib.pyplot as plt\n",
    "import datetime\n",
    "import json"
   ]
  },
  {
   "cell_type": "markdown",
   "metadata": {},
   "source": [
    "#### Make authors, papers and authors_paper without rules\n",
    "\n",
    "WARNING: Running this cell only if you want to extract all the data again, it takes too long"
   ]
  },
  {
   "cell_type": "code",
   "execution_count": 2,
   "metadata": {},
   "outputs": [],
   "source": [
    "# Getting data computer science session\n",
    "if True:\n",
    "    scraper_cs = arxivscraper.Scraper(category='math', date_from='2007-01-01',date_until='2009-12-30')\n",
    "    output = scraper_cs.scrape()\n",
    "\n",
    "    with open('../datasets/_cs_scraper.json', 'w') as fp:\n",
    "        json.dump(output, fp)"
   ]
  },
  {
   "cell_type": "markdown",
   "metadata": {},
   "source": [
    "#### Download dataset\n",
    "\n",
    "#### ** Step initial **\n",
    "WARNING: This cell should only be executed if it does not have the data on the local machine"
   ]
  },
  {
   "cell_type": "code",
   "execution_count": 4,
   "metadata": {},
   "outputs": [],
   "source": [
    "if False:\n",
    "    !wget https://www.dropbox.com/s/s5mysx0b6sp7jvw/_authors.json -P ../datasets/\n",
    "    !wget https://www.dropbox.com/s/k6knmy7pvqiqo8v/_author_paper.json -P ../datasets/\n",
    "    !wget https://www.dropbox.com/s/z5qz0al2eezdlin/_papers.json -P ../datasets/"
   ]
  },
  {
   "cell_type": "code",
   "execution_count": 3,
   "metadata": {},
   "outputs": [],
   "source": [
    "if True:\n",
    "    \n",
    "    with open('../datasets/_cs_scraper.json') as fp:\n",
    "        output = json.loads(fp.read())\n",
    "        \n",
    "    authors = []\n",
    "\n",
    "    for aut in output:\n",
    "        for i, a in enumerate(aut['authors']):\n",
    "            authors.append({'idauthor': f'auth_{(i + randint(1,21)*5)}_{(i + randint(1,21))}', 'name': a})\n",
    "\n",
    "    authors\n",
    "    \n",
    "    #Generate papers\n",
    "    papers = []\n",
    "\n",
    "    for aut in output:\n",
    "        papers.append({'idpaper': aut['id'], 'title': aut['title'], 'abstract': aut['abstract'], 'date_create': aut['created'], 'area': aut['categories'], 'authors': aut['authors']})\n",
    "\n",
    "    papers\n",
    "    \n",
    "    # Generate authors_paper\n",
    "    author_paper = []\n",
    "\n",
    "    for p in papers:\n",
    "        for a in authors:\n",
    "            if a['name'] in p['authors']:\n",
    "                author_paper.append({'author_idauthor': a['idauthor'], 'paper_idpaper': p['idpaper'], 'date_create': p['date_create']})\n",
    "    author_paper\n",
    "    \n",
    "    # Save .json files\n",
    "    import json\n",
    "    with open('../datasets/_authors.json', 'w') as fp:\n",
    "        json.dump(authors, fp)\n",
    "\n",
    "    with open('../datasets/_papers.json', 'w') as fp:\n",
    "        json.dump(papers, fp)\n",
    "\n",
    "    with open('../datasets/_author_paper.json', 'w') as fp:\n",
    "        json.dump(author_paper, fp)"
   ]
  },
  {
   "cell_type": "markdown",
   "metadata": {},
   "source": [
    "#### Apply rules\n",
    "\n",
    "1. Remove papers with only one author\n",
    "2. All areas that are in year 1 must be in year 2\n",
    "3. Remove authors who appear in year 1 and do not appear in year 2\n",
    "4. Remove authors who are only in year 2"
   ]
  },
  {
   "cell_type": "code",
   "execution_count": 5,
   "metadata": {},
   "outputs": [],
   "source": [
    "if True:\n",
    "    # load dicts\n",
    "    import json\n",
    "    with open('../datasets/_authors.json') as fp:\n",
    "        authors = json.loads(fp.read())\n",
    "\n",
    "    with open('../datasets/_papers.json') as fp:\n",
    "        papers = json.loads(fp.read())\n",
    "\n",
    "    # drop single authors\n",
    "    papers_with_multiple_authors = []\n",
    "\n",
    "    for p in papers:\n",
    "        if len(p['authors']) > 1:\n",
    "            papers_with_multiple_authors.append(p)\n",
    "\n",
    "    papers = papers_with_multiple_authors\n",
    "\n",
    "    # Generate authors_paper\n",
    "    author_paper = []\n",
    "\n",
    "    for p in papers:\n",
    "        for a in authors:\n",
    "            if a['name'] in p['authors']:\n",
    "                author_paper.append({'author_idauthor': a['idauthor'], 'paper_idpaper': p['idpaper'], 'date_create': p['date_create']})\n",
    "    len(author_paper)\n",
    "\n",
    "    # Save .json files\n",
    "    import json\n",
    "    with open('../datasets/_authors.json', 'w') as fp:\n",
    "        json.dump(authors, fp)\n",
    "\n",
    "    with open('../datasets/_papers.json', 'w') as fp:\n",
    "        json.dump(papers, fp)\n",
    "\n",
    "    with open('../datasets/_author_paper.json', 'w') as fp:\n",
    "        json.dump(author_paper, fp)"
   ]
  },
  {
   "cell_type": "markdown",
   "metadata": {},
   "source": [
    "#### Load dataframes authors"
   ]
  },
  {
   "cell_type": "code",
   "execution_count": 7,
   "metadata": {},
   "outputs": [
    {
     "data": {
      "text/html": [
       "<div>\n",
       "<style scoped>\n",
       "    .dataframe tbody tr th:only-of-type {\n",
       "        vertical-align: middle;\n",
       "    }\n",
       "\n",
       "    .dataframe tbody tr th {\n",
       "        vertical-align: top;\n",
       "    }\n",
       "\n",
       "    .dataframe thead th {\n",
       "        text-align: right;\n",
       "    }\n",
       "</style>\n",
       "<table border=\"1\" class=\"dataframe\">\n",
       "  <thead>\n",
       "    <tr style=\"text-align: right;\">\n",
       "      <th></th>\n",
       "      <th>idauthor</th>\n",
       "      <th>name</th>\n",
       "    </tr>\n",
       "  </thead>\n",
       "  <tbody>\n",
       "    <tr>\n",
       "      <th>1131</th>\n",
       "      <td>auth_106_26</td>\n",
       "      <td>lasenby</td>\n",
       "    </tr>\n",
       "    <tr>\n",
       "      <th>1132</th>\n",
       "      <td>auth_32_27</td>\n",
       "      <td>martinez-gonzalez</td>\n",
       "    </tr>\n",
       "    <tr>\n",
       "      <th>1229</th>\n",
       "      <td>auth_84_23</td>\n",
       "      <td>poor</td>\n",
       "    </tr>\n",
       "    <tr>\n",
       "      <th>1626</th>\n",
       "      <td>auth_69_6</td>\n",
       "      <td>lotker</td>\n",
       "    </tr>\n",
       "    <tr>\n",
       "      <th>3258</th>\n",
       "      <td>auth_105_22</td>\n",
       "      <td>labourie</td>\n",
       "    </tr>\n",
       "  </tbody>\n",
       "</table>\n",
       "</div>"
      ],
      "text/plain": [
       "         idauthor               name\n",
       "1131  auth_106_26            lasenby\n",
       "1132   auth_32_27  martinez-gonzalez\n",
       "1229   auth_84_23               poor\n",
       "1626    auth_69_6             lotker\n",
       "3258  auth_105_22           labourie"
      ]
     },
     "execution_count": 7,
     "metadata": {},
     "output_type": "execute_result"
    }
   ],
   "source": [
    "df_authors = pd.read_json('../datasets/_authors.json')\n",
    "df_authors.drop_duplicates(subset=['idauthor'], keep=False, inplace=True)\n",
    "df_authors.head()"
   ]
  },
  {
   "cell_type": "markdown",
   "metadata": {},
   "source": [
    "#### Load dataframes author_paper"
   ]
  },
  {
   "cell_type": "code",
   "execution_count": 40,
   "metadata": {},
   "outputs": [],
   "source": [
    "df_author_paper = pd.read_json('../datasets/_author_paper.json')\n",
    "#df_author_paper.drop_duplicates(subset=['date_create', 'paper_idpaper'], keep=False, inplace=True)\n",
    "df_filter = df_author_paper[df_author_paper['date_create'] > '2004-01-01']\n",
    "df_filter = df_filter[df_filter['date_create'] < '2007-01-01']"
   ]
  },
  {
   "cell_type": "code",
   "execution_count": 42,
   "metadata": {},
   "outputs": [
    {
     "data": {
      "text/html": [
       "<div>\n",
       "<style scoped>\n",
       "    .dataframe tbody tr th:only-of-type {\n",
       "        vertical-align: middle;\n",
       "    }\n",
       "\n",
       "    .dataframe tbody tr th {\n",
       "        vertical-align: top;\n",
       "    }\n",
       "\n",
       "    .dataframe thead th {\n",
       "        text-align: right;\n",
       "    }\n",
       "</style>\n",
       "<table border=\"1\" class=\"dataframe\">\n",
       "  <thead>\n",
       "    <tr style=\"text-align: right;\">\n",
       "      <th></th>\n",
       "      <th>author_idauthor</th>\n",
       "      <th>date_create</th>\n",
       "      <th>paper_idpaper</th>\n",
       "    </tr>\n",
       "  </thead>\n",
       "  <tbody>\n",
       "    <tr>\n",
       "      <th>1716429</th>\n",
       "      <td>auth_85_1</td>\n",
       "      <td>2004-02-12</td>\n",
       "      <td>astro-ph/0402324</td>\n",
       "    </tr>\n",
       "    <tr>\n",
       "      <th>1716430</th>\n",
       "      <td>auth_106_12</td>\n",
       "      <td>2004-02-12</td>\n",
       "      <td>astro-ph/0402324</td>\n",
       "    </tr>\n",
       "    <tr>\n",
       "      <th>1716431</th>\n",
       "      <td>auth_100_13</td>\n",
       "      <td>2004-02-12</td>\n",
       "      <td>astro-ph/0402324</td>\n",
       "    </tr>\n",
       "    <tr>\n",
       "      <th>1716432</th>\n",
       "      <td>auth_55_8</td>\n",
       "      <td>2004-02-12</td>\n",
       "      <td>astro-ph/0402324</td>\n",
       "    </tr>\n",
       "    <tr>\n",
       "      <th>1716433</th>\n",
       "      <td>auth_81_17</td>\n",
       "      <td>2004-02-12</td>\n",
       "      <td>astro-ph/0402324</td>\n",
       "    </tr>\n",
       "  </tbody>\n",
       "</table>\n",
       "</div>"
      ],
      "text/plain": [
       "        author_idauthor date_create     paper_idpaper\n",
       "1716429       auth_85_1  2004-02-12  astro-ph/0402324\n",
       "1716430     auth_106_12  2004-02-12  astro-ph/0402324\n",
       "1716431     auth_100_13  2004-02-12  astro-ph/0402324\n",
       "1716432       auth_55_8  2004-02-12  astro-ph/0402324\n",
       "1716433      auth_81_17  2004-02-12  astro-ph/0402324"
      ]
     },
     "execution_count": 42,
     "metadata": {},
     "output_type": "execute_result"
    }
   ],
   "source": [
    "df_filter.head()"
   ]
  },
  {
   "cell_type": "code",
   "execution_count": 26,
   "metadata": {},
   "outputs": [
    {
     "data": {
      "text/html": [
       "<div>\n",
       "<style scoped>\n",
       "    .dataframe tbody tr th:only-of-type {\n",
       "        vertical-align: middle;\n",
       "    }\n",
       "\n",
       "    .dataframe tbody tr th {\n",
       "        vertical-align: top;\n",
       "    }\n",
       "\n",
       "    .dataframe thead th {\n",
       "        text-align: right;\n",
       "    }\n",
       "</style>\n",
       "<table border=\"1\" class=\"dataframe\">\n",
       "  <thead>\n",
       "    <tr style=\"text-align: right;\">\n",
       "      <th></th>\n",
       "      <th>author_idauthor</th>\n",
       "      <th>date_create</th>\n",
       "      <th>paper_idpaper</th>\n",
       "    </tr>\n",
       "  </thead>\n",
       "  <tbody>\n",
       "    <tr>\n",
       "      <th>0</th>\n",
       "      <td>auth_35_17</td>\n",
       "      <td>2007-03-30</td>\n",
       "      <td>0704.0002</td>\n",
       "    </tr>\n",
       "    <tr>\n",
       "      <th>1</th>\n",
       "      <td>auth_41_7</td>\n",
       "      <td>2007-03-30</td>\n",
       "      <td>0704.0002</td>\n",
       "    </tr>\n",
       "    <tr>\n",
       "      <th>2</th>\n",
       "      <td>auth_100_17</td>\n",
       "      <td>2007-03-30</td>\n",
       "      <td>0704.0002</td>\n",
       "    </tr>\n",
       "    <tr>\n",
       "      <th>3</th>\n",
       "      <td>auth_61_5</td>\n",
       "      <td>2007-03-30</td>\n",
       "      <td>0704.0002</td>\n",
       "    </tr>\n",
       "    <tr>\n",
       "      <th>4</th>\n",
       "      <td>auth_56_10</td>\n",
       "      <td>2007-03-30</td>\n",
       "      <td>0704.0002</td>\n",
       "    </tr>\n",
       "  </tbody>\n",
       "</table>\n",
       "</div>"
      ],
      "text/plain": [
       "  author_idauthor date_create paper_idpaper\n",
       "0      auth_35_17  2007-03-30     0704.0002\n",
       "1       auth_41_7  2007-03-30     0704.0002\n",
       "2     auth_100_17  2007-03-30     0704.0002\n",
       "3       auth_61_5  2007-03-30     0704.0002\n",
       "4      auth_56_10  2007-03-30     0704.0002"
      ]
     },
     "execution_count": 26,
     "metadata": {},
     "output_type": "execute_result"
    }
   ],
   "source": [
    "df_author_paper.head()"
   ]
  },
  {
   "cell_type": "code",
   "execution_count": 29,
   "metadata": {},
   "outputs": [
    {
     "data": {
      "text/plain": [
       "4250129"
      ]
     },
     "execution_count": 29,
     "metadata": {},
     "output_type": "execute_result"
    }
   ],
   "source": [
    "len(df_author_paper)"
   ]
  },
  {
   "cell_type": "markdown",
   "metadata": {},
   "source": [
    "#### Load dataframes paper"
   ]
  },
  {
   "cell_type": "code",
   "execution_count": 9,
   "metadata": {},
   "outputs": [
    {
     "data": {
      "text/html": [
       "<div>\n",
       "<style scoped>\n",
       "    .dataframe tbody tr th:only-of-type {\n",
       "        vertical-align: middle;\n",
       "    }\n",
       "\n",
       "    .dataframe tbody tr th {\n",
       "        vertical-align: top;\n",
       "    }\n",
       "\n",
       "    .dataframe thead th {\n",
       "        text-align: right;\n",
       "    }\n",
       "</style>\n",
       "<table border=\"1\" class=\"dataframe\">\n",
       "  <thead>\n",
       "    <tr style=\"text-align: right;\">\n",
       "      <th></th>\n",
       "      <th>abstract</th>\n",
       "      <th>area</th>\n",
       "      <th>date_create</th>\n",
       "      <th>idpaper</th>\n",
       "      <th>title</th>\n",
       "    </tr>\n",
       "  </thead>\n",
       "  <tbody>\n",
       "    <tr>\n",
       "      <th>43813</th>\n",
       "      <td>a n=4 supersymmetric matrix kp hierarchy is pr...</td>\n",
       "      <td>solv-int hep-th math-ph math.mp nlin.si</td>\n",
       "      <td>1999-06-29</td>\n",
       "      <td>solv-int/9907004</td>\n",
       "      <td>n=2 local and n=4 nonlocal reductions of super...</td>\n",
       "    </tr>\n",
       "    <tr>\n",
       "      <th>43814</th>\n",
       "      <td>we introduce a class of cellular automata asso...</td>\n",
       "      <td>solv-int math.qa nlin.si</td>\n",
       "      <td>1999-07-27</td>\n",
       "      <td>solv-int/9907020</td>\n",
       "      <td>soliton cellular automata associated with crys...</td>\n",
       "    </tr>\n",
       "    <tr>\n",
       "      <th>43815</th>\n",
       "      <td>for the integrable case of the discrete self-t...</td>\n",
       "      <td>solv-int hep-th math.ca math.qa nlin.si</td>\n",
       "      <td>1999-07-31</td>\n",
       "      <td>solv-int/9908002</td>\n",
       "      <td>quantum backlund transformation for the integr...</td>\n",
       "    </tr>\n",
       "    <tr>\n",
       "      <th>43816</th>\n",
       "      <td>a family of completely integrable nonlinear de...</td>\n",
       "      <td>solv-int math.qa nlin.si</td>\n",
       "      <td>1999-11-03</td>\n",
       "      <td>solv-int/9911004</td>\n",
       "      <td>integrable deformations of oscillator chains f...</td>\n",
       "    </tr>\n",
       "    <tr>\n",
       "      <th>43817</th>\n",
       "      <td>three inequivalent real forms of the complex n...</td>\n",
       "      <td>solv-int hep-th math-ph math.mp nlin.si</td>\n",
       "      <td>1999-11-04</td>\n",
       "      <td>solv-int/9911005</td>\n",
       "      <td>a note on real forms of the complex n=4 supers...</td>\n",
       "    </tr>\n",
       "  </tbody>\n",
       "</table>\n",
       "</div>"
      ],
      "text/plain": [
       "                                                abstract  \\\n",
       "43813  a n=4 supersymmetric matrix kp hierarchy is pr...   \n",
       "43814  we introduce a class of cellular automata asso...   \n",
       "43815  for the integrable case of the discrete self-t...   \n",
       "43816  a family of completely integrable nonlinear de...   \n",
       "43817  three inequivalent real forms of the complex n...   \n",
       "\n",
       "                                          area date_create           idpaper  \\\n",
       "43813  solv-int hep-th math-ph math.mp nlin.si  1999-06-29  solv-int/9907004   \n",
       "43814                 solv-int math.qa nlin.si  1999-07-27  solv-int/9907020   \n",
       "43815  solv-int hep-th math.ca math.qa nlin.si  1999-07-31  solv-int/9908002   \n",
       "43816                 solv-int math.qa nlin.si  1999-11-03  solv-int/9911004   \n",
       "43817  solv-int hep-th math-ph math.mp nlin.si  1999-11-04  solv-int/9911005   \n",
       "\n",
       "                                                   title  \n",
       "43813  n=2 local and n=4 nonlocal reductions of super...  \n",
       "43814  soliton cellular automata associated with crys...  \n",
       "43815  quantum backlund transformation for the integr...  \n",
       "43816  integrable deformations of oscillator chains f...  \n",
       "43817  a note on real forms of the complex n=4 supers...  "
      ]
     },
     "execution_count": 9,
     "metadata": {},
     "output_type": "execute_result"
    }
   ],
   "source": [
    "df_paper = pd.read_json('../datasets/_papers.json')\n",
    "df_paper.drop(columns=['authors'], axis=1, inplace=True)\n",
    "df_paper.drop_duplicates(subset=['area', 'idpaper', 'title'], keep=False, inplace=True)\n",
    "df_paper.tail()"
   ]
  }
 ],
 "metadata": {
  "kernelspec": {
   "display_name": "Python 3",
   "language": "python",
   "name": "python3"
  },
  "language_info": {
   "codemirror_mode": {
    "name": "ipython",
    "version": 3
   },
   "file_extension": ".py",
   "mimetype": "text/x-python",
   "name": "python",
   "nbconvert_exporter": "python",
   "pygments_lexer": "ipython3",
   "version": "3.6.3"
  }
 },
 "nbformat": 4,
 "nbformat_minor": 2
}
