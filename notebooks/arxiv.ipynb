{
 "cells": [
  {
   "cell_type": "code",
   "execution_count": 1,
   "metadata": {},
   "outputs": [],
   "source": [
    "import pandas as pd\n",
    "import numpy as np\n",
    "import arxivscraper"
   ]
  },
  {
   "cell_type": "markdown",
   "metadata": {},
   "source": [
    "#### Make authors, papers and authors_paper"
   ]
  },
  {
   "cell_type": "code",
   "execution_count": 20,
   "metadata": {},
   "outputs": [],
   "source": [
    "if False:\n",
    "    # Getting data computer science session\n",
    "    scraper_cs = arxivscraper.Scraper(category='cs', date_from='2015-08-23',date_until='2017-08-23')\n",
    "    output = scraper_cs.scrape()\n",
    "    df = pd.DataFrame.from_dict(output)\n",
    "    \n",
    "    # Getting data stat session\n",
    "    scraper_stat = arxivscraper.Scraper(category='stat', date_from='2015-08-23',date_until='2017-08-23')\n",
    "    outputs = scraper_stat.scrape()\n",
    "    df2 = pd.DataFrame.from_dict(outputs)\n",
    "    \n",
    "    # generate authors\n",
    "    from random import randint\n",
    "    authors = []\n",
    "\n",
    "    output = output[0:len(outputs)]\n",
    "    for aut in output:\n",
    "        for i, a in enumerate(aut['authors']):\n",
    "            authors.append({'idauthor': f'aoz{(i + randint(1,21)*5)}xyz{(i + randint(1,21))}', 'name': a})\n",
    "\n",
    "    for aut in outputs:\n",
    "        for i, a in enumerate(aut['authors']):\n",
    "            authors.append({'idauthor': f'aoz{(i + randint(1,21)*5)}xyz{(i + randint(1,21))}', 'name': a})\n",
    "\n",
    "    authors\n",
    "    \n",
    "    #Generate papers\n",
    "    papers = []\n",
    "\n",
    "    for aut in output:\n",
    "        papers.append({'idpaper': aut['id'], 'title': aut['title'], 'abstract': aut['abstract'], 'date_create': aut['created'], 'area': aut['categories'], 'authors': aut['authors']})\n",
    "\n",
    "    for aut in outputs:\n",
    "        papers.append({'idpaper': aut['id'], 'title': aut['title'], 'abstract': aut['abstract'], 'date_create': aut['created'], 'area': aut['categories'], 'authors': aut['authors']})\n",
    "\n",
    "    papers\n",
    "    \n",
    "    # Generate authors_paper\n",
    "    autor_paper = []\n",
    "\n",
    "    for p in papers:\n",
    "        for a in authors:\n",
    "            if a['name'] in p['authors']:\n",
    "                autor_paper.append({'idauthor_paper': f'auz{(i + randint(1,21)*5)}ppr{(i + randint(1,21))}', 'author_idauthor': a['idauthor'], 'paper_idpaper': p['idpaper'], 'date_create': p['date_create']})\n",
    "    autor_paper\n",
    "    \n",
    "    # Save .json files\n",
    "    import json\n",
    "    with open('../datasets/authors.json', 'w') as fp:\n",
    "        json.dump(authors, fp)\n",
    "\n",
    "    with open('../datasets/papers.json', 'w') as fp:\n",
    "        json.dump(papers, fp)\n",
    "\n",
    "    with open('../datasets/author_paper.json', 'w') as fp:\n",
    "        json.dump(autor_paper, fp)"
   ]
  },
  {
   "cell_type": "markdown",
   "metadata": {},
   "source": [
    "#### Download dataset"
   ]
  },
  {
   "cell_type": "code",
   "execution_count": 21,
   "metadata": {},
   "outputs": [],
   "source": [
    "if False:\n",
    "    !wget https://www.dropbox.com/s/s5mysx0b6sp7jvw/authors.json -P ../datasets/\n",
    "    !wget https://www.dropbox.com/s/ktvn3q2ijfka9zn/authors_paper.json -P ../datasets/\n",
    "    !wget https://www.dropbox.com/s/jbqvl5htdv41c33/papers.json -P ../datasets/"
   ]
  },
  {
   "cell_type": "markdown",
   "metadata": {},
   "source": [
    "#### Load dataframes authors"
   ]
  },
  {
   "cell_type": "code",
   "execution_count": 13,
   "metadata": {},
   "outputs": [
    {
     "data": {
      "text/html": [
       "<div>\n",
       "<style scoped>\n",
       "    .dataframe tbody tr th:only-of-type {\n",
       "        vertical-align: middle;\n",
       "    }\n",
       "\n",
       "    .dataframe tbody tr th {\n",
       "        vertical-align: top;\n",
       "    }\n",
       "\n",
       "    .dataframe thead th {\n",
       "        text-align: right;\n",
       "    }\n",
       "</style>\n",
       "<table border=\"1\" class=\"dataframe\">\n",
       "  <thead>\n",
       "    <tr style=\"text-align: right;\">\n",
       "      <th></th>\n",
       "      <th>idauthor</th>\n",
       "      <th>name</th>\n",
       "    </tr>\n",
       "  </thead>\n",
       "  <tbody>\n",
       "    <tr>\n",
       "      <th>0</th>\n",
       "      <td>aoz95xyz2</td>\n",
       "      <td>chatzigeorgiou</td>\n",
       "    </tr>\n",
       "    <tr>\n",
       "      <th>1</th>\n",
       "      <td>aoz31xyz9</td>\n",
       "      <td>rodrigues</td>\n",
       "    </tr>\n",
       "    <tr>\n",
       "      <th>2</th>\n",
       "      <td>aoz97xyz6</td>\n",
       "      <td>wassell</td>\n",
       "    </tr>\n",
       "    <tr>\n",
       "      <th>3</th>\n",
       "      <td>aoz18xyz8</td>\n",
       "      <td>carrasco</td>\n",
       "    </tr>\n",
       "    <tr>\n",
       "      <th>4</th>\n",
       "      <td>aoz35xyz18</td>\n",
       "      <td>agarwal</td>\n",
       "    </tr>\n",
       "  </tbody>\n",
       "</table>\n",
       "</div>"
      ],
      "text/plain": [
       "     idauthor            name\n",
       "0   aoz95xyz2  chatzigeorgiou\n",
       "1   aoz31xyz9       rodrigues\n",
       "2   aoz97xyz6         wassell\n",
       "3   aoz18xyz8        carrasco\n",
       "4  aoz35xyz18         agarwal"
      ]
     },
     "execution_count": 13,
     "metadata": {},
     "output_type": "execute_result"
    }
   ],
   "source": [
    "df_authors = pd.read_json('../datasets/authors.json')\n",
    "df_authors.head()"
   ]
  },
  {
   "cell_type": "markdown",
   "metadata": {},
   "source": [
    "#### Load dataframes author_paper"
   ]
  },
  {
   "cell_type": "code",
   "execution_count": 14,
   "metadata": {},
   "outputs": [
    {
     "data": {
      "text/html": [
       "<div>\n",
       "<style scoped>\n",
       "    .dataframe tbody tr th:only-of-type {\n",
       "        vertical-align: middle;\n",
       "    }\n",
       "\n",
       "    .dataframe tbody tr th {\n",
       "        vertical-align: top;\n",
       "    }\n",
       "\n",
       "    .dataframe thead th {\n",
       "        text-align: right;\n",
       "    }\n",
       "</style>\n",
       "<table border=\"1\" class=\"dataframe\">\n",
       "  <thead>\n",
       "    <tr style=\"text-align: right;\">\n",
       "      <th></th>\n",
       "      <th>author_idauthor</th>\n",
       "      <th>date_create</th>\n",
       "      <th>idauthor_paper</th>\n",
       "      <th>paper_idpaper</th>\n",
       "    </tr>\n",
       "  </thead>\n",
       "  <tbody>\n",
       "    <tr>\n",
       "      <th>0</th>\n",
       "      <td>aoz95xyz2</td>\n",
       "      <td>2007-04-03</td>\n",
       "      <td>auz62ppr23</td>\n",
       "      <td>0704.0361</td>\n",
       "    </tr>\n",
       "    <tr>\n",
       "      <th>1</th>\n",
       "      <td>aoz31xyz9</td>\n",
       "      <td>2007-04-03</td>\n",
       "      <td>auz52ppr20</td>\n",
       "      <td>0704.0361</td>\n",
       "    </tr>\n",
       "    <tr>\n",
       "      <th>2</th>\n",
       "      <td>aoz97xyz6</td>\n",
       "      <td>2007-04-03</td>\n",
       "      <td>auz17ppr11</td>\n",
       "      <td>0704.0361</td>\n",
       "    </tr>\n",
       "    <tr>\n",
       "      <th>3</th>\n",
       "      <td>aoz18xyz8</td>\n",
       "      <td>2007-04-03</td>\n",
       "      <td>auz42ppr12</td>\n",
       "      <td>0704.0361</td>\n",
       "    </tr>\n",
       "    <tr>\n",
       "      <th>4</th>\n",
       "      <td>aoz7xyz18</td>\n",
       "      <td>2007-04-03</td>\n",
       "      <td>auz47ppr3</td>\n",
       "      <td>0704.0361</td>\n",
       "    </tr>\n",
       "  </tbody>\n",
       "</table>\n",
       "</div>"
      ],
      "text/plain": [
       "  author_idauthor date_create idauthor_paper paper_idpaper\n",
       "0       aoz95xyz2  2007-04-03     auz62ppr23     0704.0361\n",
       "1       aoz31xyz9  2007-04-03     auz52ppr20     0704.0361\n",
       "2       aoz97xyz6  2007-04-03     auz17ppr11     0704.0361\n",
       "3       aoz18xyz8  2007-04-03     auz42ppr12     0704.0361\n",
       "4       aoz7xyz18  2007-04-03      auz47ppr3     0704.0361"
      ]
     },
     "execution_count": 14,
     "metadata": {},
     "output_type": "execute_result"
    }
   ],
   "source": [
    "df_author_paper = pd.read_json('../datasets/authors_paper.json')\n",
    "df_author_paper.head()"
   ]
  },
  {
   "cell_type": "markdown",
   "metadata": {},
   "source": [
    "#### Load dataframes author_paper"
   ]
  },
  {
   "cell_type": "code",
   "execution_count": 16,
   "metadata": {},
   "outputs": [
    {
     "data": {
      "text/html": [
       "<div>\n",
       "<style scoped>\n",
       "    .dataframe tbody tr th:only-of-type {\n",
       "        vertical-align: middle;\n",
       "    }\n",
       "\n",
       "    .dataframe tbody tr th {\n",
       "        vertical-align: top;\n",
       "    }\n",
       "\n",
       "    .dataframe thead th {\n",
       "        text-align: right;\n",
       "    }\n",
       "</style>\n",
       "<table border=\"1\" class=\"dataframe\">\n",
       "  <thead>\n",
       "    <tr style=\"text-align: right;\">\n",
       "      <th></th>\n",
       "      <th>abstract</th>\n",
       "      <th>area</th>\n",
       "      <th>date_create</th>\n",
       "      <th>idpaper</th>\n",
       "      <th>title</th>\n",
       "    </tr>\n",
       "  </thead>\n",
       "  <tbody>\n",
       "    <tr>\n",
       "      <th>0</th>\n",
       "      <td>it has been observed that particular rate-1/2 ...</td>\n",
       "      <td>cs.it math.it</td>\n",
       "      <td>2007-04-03</td>\n",
       "      <td>0704.0361</td>\n",
       "      <td>pseudo-random puncturing: a technique to lower...</td>\n",
       "    </tr>\n",
       "    <tr>\n",
       "      <th>1</th>\n",
       "      <td>we present an algorithm for systematic encodin...</td>\n",
       "      <td>cs.it math.it</td>\n",
       "      <td>2007-04-04</td>\n",
       "      <td>0704.0590</td>\n",
       "      <td>a low complexity algorithm and architecture fo...</td>\n",
       "    </tr>\n",
       "    <tr>\n",
       "      <th>2</th>\n",
       "      <td>the problem of statistical learning is to cons...</td>\n",
       "      <td>cs.it cs.lg math.it</td>\n",
       "      <td>2007-04-04</td>\n",
       "      <td>0704.0671</td>\n",
       "      <td>learning from compressed observations</td>\n",
       "    </tr>\n",
       "    <tr>\n",
       "      <th>3</th>\n",
       "      <td>it has been shown that a decentralized relay s...</td>\n",
       "      <td>cs.it math.it</td>\n",
       "      <td>2007-04-05</td>\n",
       "      <td>0704.0805</td>\n",
       "      <td>opportunistic relay selection with limited fee...</td>\n",
       "    </tr>\n",
       "    <tr>\n",
       "      <th>4</th>\n",
       "      <td>this paper presents an experimental study and ...</td>\n",
       "      <td>cs.cr</td>\n",
       "      <td>2007-04-06</td>\n",
       "      <td>0704.0858</td>\n",
       "      <td>lessons learned from the deployment of a high-...</td>\n",
       "    </tr>\n",
       "  </tbody>\n",
       "</table>\n",
       "</div>"
      ],
      "text/plain": [
       "                                            abstract                 area  \\\n",
       "0  it has been observed that particular rate-1/2 ...        cs.it math.it   \n",
       "1  we present an algorithm for systematic encodin...        cs.it math.it   \n",
       "2  the problem of statistical learning is to cons...  cs.it cs.lg math.it   \n",
       "3  it has been shown that a decentralized relay s...        cs.it math.it   \n",
       "4  this paper presents an experimental study and ...                cs.cr   \n",
       "\n",
       "  date_create    idpaper                                              title  \n",
       "0  2007-04-03  0704.0361  pseudo-random puncturing: a technique to lower...  \n",
       "1  2007-04-04  0704.0590  a low complexity algorithm and architecture fo...  \n",
       "2  2007-04-04  0704.0671              learning from compressed observations  \n",
       "3  2007-04-05  0704.0805  opportunistic relay selection with limited fee...  \n",
       "4  2007-04-06  0704.0858  lessons learned from the deployment of a high-...  "
      ]
     },
     "execution_count": 16,
     "metadata": {},
     "output_type": "execute_result"
    }
   ],
   "source": [
    "df_paper = pd.read_json('../datasets/papers.json')\n",
    "df_paper.drop(columns=['authors'], axis=1, inplace=True)\n",
    "df_paper.head()"
   ]
  },
  {
   "cell_type": "code",
   "execution_count": null,
   "metadata": {},
   "outputs": [],
   "source": []
  }
 ],
 "metadata": {
  "kernelspec": {
   "display_name": "Python 3",
   "language": "python",
   "name": "python3"
  },
  "language_info": {
   "codemirror_mode": {
    "name": "ipython",
    "version": 3
   },
   "file_extension": ".py",
   "mimetype": "text/x-python",
   "name": "python",
   "nbconvert_exporter": "python",
   "pygments_lexer": "ipython3",
   "version": "3.6.3"
  }
 },
 "nbformat": 4,
 "nbformat_minor": 2
}
