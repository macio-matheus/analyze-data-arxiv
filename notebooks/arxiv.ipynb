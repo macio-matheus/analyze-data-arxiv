{
 "cells": [
  {
   "cell_type": "code",
   "execution_count": 1,
   "metadata": {},
   "outputs": [],
   "source": [
    "import pandas as pd\n",
    "import numpy as np\n",
    "import arxivscraper\n",
    "from random import randint"
   ]
  },
  {
   "cell_type": "markdown",
   "metadata": {},
   "source": [
    "#### Make authors, papers and authors_paper without rules\n",
    "\n",
    "WARNING: Running this cell only if you want to extract all the data again, it takes too long"
   ]
  },
  {
   "cell_type": "code",
   "execution_count": 2,
   "metadata": {},
   "outputs": [],
   "source": [
    "if False:\n",
    "    # Getting data computer science session\n",
    "    scraper_cs = arxivscraper.Scraper(category='cs', date_from='2015-08-23',date_until='2017-08-23')\n",
    "    output = scraper_cs.scrape()\n",
    "    df = pd.DataFrame.from_dict(output)\n",
    "    \n",
    "    # Getting data stat session\n",
    "    scraper_stat = arxivscraper.Scraper(category='stat', date_from='2015-08-23',date_until='2017-08-23')\n",
    "    outputs = scraper_stat.scrape()\n",
    "    df2 = pd.DataFrame.from_dict(outputs)\n",
    "    \n",
    "    # generate authors\n",
    "    authors = []\n",
    "\n",
    "    output = output[0:len(outputs)]\n",
    "    for aut in output:\n",
    "        for i, a in enumerate(aut['authors']):\n",
    "            authors.append({'idauthor': f'aoz{(i + randint(1,21)*5)}xyz{(i + randint(1,21))}', 'name': a})\n",
    "\n",
    "    for aut in outputs:\n",
    "        for i, a in enumerate(aut['authors']):\n",
    "            authors.append({'idauthor': f'aoz{(i + randint(1,21)*5)}xyz{(i + randint(1,21))}', 'name': a})\n",
    "\n",
    "    authors\n",
    "    \n",
    "    #Generate papers\n",
    "    papers = []\n",
    "\n",
    "    for aut in output:\n",
    "        papers.append({'idpaper': aut['id'], 'title': aut['title'], 'abstract': aut['abstract'], 'date_create': aut['created'], 'area': aut['categories'], 'authors': aut['authors']})\n",
    "\n",
    "    for aut in outputs:\n",
    "        papers.append({'idpaper': aut['id'], 'title': aut['title'], 'abstract': aut['abstract'], 'date_create': aut['created'], 'area': aut['categories'], 'authors': aut['authors']})\n",
    "\n",
    "    papers\n",
    "    \n",
    "    # Generate authors_paper\n",
    "    autor_paper = []\n",
    "\n",
    "    for p in papers:\n",
    "        for a in authors:\n",
    "            if a['name'] in p['authors']:\n",
    "                autor_paper.append({'idauthor_paper': f'auz{(i + randint(1,21)*5)}ppr{(i + randint(1,21))}', 'author_idauthor': a['idauthor'], 'paper_idpaper': p['idpaper'], 'date_create': p['date_create']})\n",
    "    autor_paper\n",
    "    \n",
    "    # Save .json files\n",
    "    import json\n",
    "    with open('../datasets/authors.json', 'w') as fp:\n",
    "        json.dump(authors, fp)\n",
    "\n",
    "    with open('../datasets/papers.json', 'w') as fp:\n",
    "        json.dump(papers, fp)\n",
    "\n",
    "    with open('../datasets/author_paper.json', 'w') as fp:\n",
    "        json.dump(autor_paper, fp)"
   ]
  },
  {
   "cell_type": "markdown",
   "metadata": {},
   "source": [
    "#### Download dataset\n",
    "\n",
    "#### ** Step initial **\n",
    "WARNING: This cell should only be executed if it does not have the data on the local machine"
   ]
  },
  {
   "cell_type": "code",
   "execution_count": 3,
   "metadata": {},
   "outputs": [],
   "source": [
    "if False:\n",
    "    !wget https://www.dropbox.com/s/s5mysx0b6sp7jvw/authors.json -P ../datasets/\n",
    "    !wget https://www.dropbox.com/s/ktvn3q2ijfka9zn/authors_paper.json -P ../datasets/\n",
    "    !wget https://www.dropbox.com/s/jbqvl5htdv41c33/papers.json -P ../datasets/"
   ]
  },
  {
   "cell_type": "markdown",
   "metadata": {},
   "source": [
    "#### Apply rules\n",
    "\n",
    "1. Remove papers with only one author\n",
    "2. All areas that are in year 1 must be in year 2\n",
    "3. Remove authors who appear in year 1 and do not appear in year 2\n",
    "4. Remove authors who are only in year 2"
   ]
  },
  {
   "cell_type": "code",
   "execution_count": 4,
   "metadata": {},
   "outputs": [],
   "source": [
    "if False:\n",
    "    # load dicts\n",
    "    import json\n",
    "    with open('../datasets/authors.json') as fp:\n",
    "        authors = json.loads(fp.read())\n",
    "\n",
    "    with open('../datasets/papers.json') as fp:\n",
    "        papers = json.loads(fp.read())\n",
    "\n",
    "    with open('../datasets/authors_paper.json') as fp:\n",
    "        autor_paper = json.loads(fp.read())\n",
    "\n",
    "    # drop single authors\n",
    "    papers_with_multiple_authors = []\n",
    "\n",
    "    for p in papers:\n",
    "        if len(p['authors']) > 1:\n",
    "            papers_with_multiple_authors.append(p)\n",
    "\n",
    "    papers = papers_with_multiple_authors\n",
    "\n",
    "    # Regenerate authors_paper\n",
    "    autor_paper = []\n",
    "\n",
    "    for p in papers:\n",
    "        for a in authors:\n",
    "            if a['name'] in p['authors']:\n",
    "                autor_paper.append({'idauthor_paper': f'auz{(randint(1,21)*5)}ppr{(randint(1,21))}', 'author_idauthor': a['idauthor'], 'paper_idpaper': p['idpaper'], 'date_create': p['date_create']})\n",
    "    len(autor_paper)\n",
    "\n",
    "    # Save .json files\n",
    "    import json\n",
    "    with open('../datasets/authors.json', 'w') as fp:\n",
    "        json.dump(authors, fp)\n",
    "\n",
    "    with open('../datasets/papers.json', 'w') as fp:\n",
    "        json.dump(papers, fp)\n",
    "\n",
    "    with open('../datasets/authors_paper.json', 'w') as fp:\n",
    "        json.dump(autor_paper, fp)"
   ]
  },
  {
   "cell_type": "code",
   "execution_count": 7,
   "metadata": {},
   "outputs": [
    {
     "name": "stdout",
     "output_type": "stream",
     "text": [
      "4202676 826934 3375742\n",
      "2536\n",
      "68640 92755\n",
      "19683 2569\n"
     ]
    }
   ],
   "source": [
    "if False:\n",
    "    from dateutil.relativedelta import relativedelta\n",
    "    import datetime\n",
    "    \n",
    "    # Creates two auxiliary lists with each year's publications\n",
    "    year_one = []\n",
    "    year_two = []\n",
    "    year_limit = datetime.datetime.strptime(\"2016-08-23\", \"%Y-%m-%d\").timestamp() * 1000\n",
    "\n",
    "    for ap in autor_paper:\n",
    "        dt_c = datetime.datetime.strptime(ap['date_create'], \"%Y-%m-%d\").timestamp() * 1000\n",
    "        if dt_c > year_limit:\n",
    "            year_two.append(ap)\n",
    "        else:\n",
    "            year_one.append(ap)\n",
    "\n",
    "    print(len(autor_paper), len(year_two), len(year_one))\n",
    "\n",
    "    def verify_author_at_year(id_author, list_year):\n",
    "        for i in list_year:\n",
    "            if id_author in i['author_idauthor']:\n",
    "                return True\n",
    "        return False\n",
    "\n",
    "    author_paper_on_two_year = []\n",
    "    single_ids_author = []\n",
    "    for ap in autor_paper:\n",
    "        if ap['author_idauthor'] not in single_ids_author:\n",
    "            single_ids_author.append(ap['author_idauthor'])\n",
    "            exists_yer_one = verify_author_at_year(ap['author_idauthor'], year_one)\n",
    "            exists_yer_two = verify_author_at_year(ap['author_idauthor'], year_two)\n",
    "            if exists_yer_one and exists_yer_two:\n",
    "                author_paper_on_two_year.append(ap)\n",
    "\n",
    "    print(len(author_paper_on_two_year))\n",
    "\n",
    "    # removes non-published authors within two years\n",
    "\n",
    "    filter_authors = []\n",
    "\n",
    "    for a in authors:\n",
    "        for apty in author_paper_on_two_year:\n",
    "            if a['idauthor'] in apty['author_idauthor']:\n",
    "                filter_authors.append(a)\n",
    "                continue\n",
    "\n",
    "    print(len(authors), len(filter_authors))\n",
    "\n",
    "\n",
    "    # removes unused papers \n",
    "\n",
    "    filter_papers = []\n",
    "\n",
    "    for p in papers:\n",
    "        for apty2 in author_paper_on_two_year:\n",
    "            if p['idpaper'] in apty2['paper_idpaper']:\n",
    "                filter_papers.append(p)\n",
    "\n",
    "    print(len(papers), len(filter_papers))\n",
    "\n",
    "    # Save .json files\n",
    "    import json\n",
    "    with open('../datasets/authors.json', 'w') as fp:\n",
    "        json.dump(filter_authors, fp)\n",
    "\n",
    "    with open('../datasets/papers.json', 'w') as fp:\n",
    "        json.dump(filter_papers, fp)\n",
    "\n",
    "    with open('../datasets/authors_paper.json', 'w') as fp:\n",
    "        json.dump(author_paper_on_two_year, fp)"
   ]
  },
  {
   "cell_type": "markdown",
   "metadata": {},
   "source": [
    "#### Load dataframes authors"
   ]
  },
  {
   "cell_type": "code",
   "execution_count": 17,
   "metadata": {},
   "outputs": [
    {
     "data": {
      "text/html": [
       "<div>\n",
       "<style scoped>\n",
       "    .dataframe tbody tr th:only-of-type {\n",
       "        vertical-align: middle;\n",
       "    }\n",
       "\n",
       "    .dataframe tbody tr th {\n",
       "        vertical-align: top;\n",
       "    }\n",
       "\n",
       "    .dataframe thead th {\n",
       "        text-align: right;\n",
       "    }\n",
       "</style>\n",
       "<table border=\"1\" class=\"dataframe\">\n",
       "  <thead>\n",
       "    <tr style=\"text-align: right;\">\n",
       "      <th></th>\n",
       "      <th>idauthor</th>\n",
       "      <th>name</th>\n",
       "    </tr>\n",
       "  </thead>\n",
       "  <tbody>\n",
       "    <tr>\n",
       "      <th>404</th>\n",
       "      <td>aoz109xyz32</td>\n",
       "      <td>rossi</td>\n",
       "    </tr>\n",
       "    <tr>\n",
       "      <th>1920</th>\n",
       "      <td>aoz107xyz24</td>\n",
       "      <td>han</td>\n",
       "    </tr>\n",
       "    <tr>\n",
       "      <th>2626</th>\n",
       "      <td>aoz27xyz28</td>\n",
       "      <td>calandriello</td>\n",
       "    </tr>\n",
       "    <tr>\n",
       "      <th>2628</th>\n",
       "      <td>aoz39xyz27</td>\n",
       "      <td>kung</td>\n",
       "    </tr>\n",
       "    <tr>\n",
       "      <th>6087</th>\n",
       "      <td>aoz22xyz28</td>\n",
       "      <td>ng</td>\n",
       "    </tr>\n",
       "  </tbody>\n",
       "</table>\n",
       "</div>"
      ],
      "text/plain": [
       "         idauthor          name\n",
       "404   aoz109xyz32         rossi\n",
       "1920  aoz107xyz24           han\n",
       "2626   aoz27xyz28  calandriello\n",
       "2628   aoz39xyz27          kung\n",
       "6087   aoz22xyz28            ng"
      ]
     },
     "execution_count": 17,
     "metadata": {},
     "output_type": "execute_result"
    }
   ],
   "source": [
    "df_authors = pd.read_json('../datasets/authors.json')\n",
    "df_authors.drop_duplicates(subset=['idauthor'], keep=False, inplace=True)\n",
    "df_authors.head()"
   ]
  },
  {
   "cell_type": "markdown",
   "metadata": {},
   "source": [
    "#### Load dataframes author_paper"
   ]
  },
  {
   "cell_type": "code",
   "execution_count": 26,
   "metadata": {},
   "outputs": [
    {
     "data": {
      "text/html": [
       "<div>\n",
       "<style scoped>\n",
       "    .dataframe tbody tr th:only-of-type {\n",
       "        vertical-align: middle;\n",
       "    }\n",
       "\n",
       "    .dataframe tbody tr th {\n",
       "        vertical-align: top;\n",
       "    }\n",
       "\n",
       "    .dataframe thead th {\n",
       "        text-align: right;\n",
       "    }\n",
       "</style>\n",
       "<table border=\"1\" class=\"dataframe\">\n",
       "  <thead>\n",
       "    <tr style=\"text-align: right;\">\n",
       "      <th></th>\n",
       "      <th>author_idauthor</th>\n",
       "      <th>date_create</th>\n",
       "      <th>idauthor_paper</th>\n",
       "      <th>paper_idpaper</th>\n",
       "    </tr>\n",
       "  </thead>\n",
       "  <tbody>\n",
       "    <tr>\n",
       "      <th>2531</th>\n",
       "      <td>aoz75xyz36</td>\n",
       "      <td>2016-04-02</td>\n",
       "      <td>auz20ppr16</td>\n",
       "      <td>1604.00572</td>\n",
       "    </tr>\n",
       "    <tr>\n",
       "      <th>2532</th>\n",
       "      <td>aoz88xyz27</td>\n",
       "      <td>2016-06-14</td>\n",
       "      <td>auz40ppr12</td>\n",
       "      <td>1606.04460</td>\n",
       "    </tr>\n",
       "    <tr>\n",
       "      <th>2533</th>\n",
       "      <td>aoz112xyz25</td>\n",
       "      <td>2016-06-14</td>\n",
       "      <td>auz65ppr6</td>\n",
       "      <td>1606.04460</td>\n",
       "    </tr>\n",
       "    <tr>\n",
       "      <th>2534</th>\n",
       "      <td>aoz136xyz53</td>\n",
       "      <td>2016-07-25</td>\n",
       "      <td>auz10ppr4</td>\n",
       "      <td>1607.07195</td>\n",
       "    </tr>\n",
       "    <tr>\n",
       "      <th>2535</th>\n",
       "      <td>aoz46xyz25</td>\n",
       "      <td>2016-08-16</td>\n",
       "      <td>auz5ppr4</td>\n",
       "      <td>1608.04846</td>\n",
       "    </tr>\n",
       "  </tbody>\n",
       "</table>\n",
       "</div>"
      ],
      "text/plain": [
       "     author_idauthor date_create idauthor_paper  paper_idpaper\n",
       "2531      aoz75xyz36  2016-04-02     auz20ppr16     1604.00572\n",
       "2532      aoz88xyz27  2016-06-14     auz40ppr12     1606.04460\n",
       "2533     aoz112xyz25  2016-06-14      auz65ppr6     1606.04460\n",
       "2534     aoz136xyz53  2016-07-25      auz10ppr4     1607.07195\n",
       "2535      aoz46xyz25  2016-08-16       auz5ppr4     1608.04846"
      ]
     },
     "execution_count": 26,
     "metadata": {},
     "output_type": "execute_result"
    }
   ],
   "source": [
    "df_author_paper = pd.read_json('../datasets/authors_paper.json')\n",
    "df_author_paper.drop_duplicates(subset=['author_idauthor', 'date_create', 'paper_idpaper'], keep=False, inplace=True)\n",
    "df_author_paper.tail()"
   ]
  },
  {
   "cell_type": "markdown",
   "metadata": {},
   "source": [
    "#### Load dataframes paper"
   ]
  },
  {
   "cell_type": "code",
   "execution_count": 29,
   "metadata": {},
   "outputs": [
    {
     "data": {
      "text/html": [
       "<div>\n",
       "<style scoped>\n",
       "    .dataframe tbody tr th:only-of-type {\n",
       "        vertical-align: middle;\n",
       "    }\n",
       "\n",
       "    .dataframe tbody tr th {\n",
       "        vertical-align: top;\n",
       "    }\n",
       "\n",
       "    .dataframe thead th {\n",
       "        text-align: right;\n",
       "    }\n",
       "</style>\n",
       "<table border=\"1\" class=\"dataframe\">\n",
       "  <thead>\n",
       "    <tr style=\"text-align: right;\">\n",
       "      <th></th>\n",
       "      <th>abstract</th>\n",
       "      <th>area</th>\n",
       "      <th>date_create</th>\n",
       "      <th>idpaper</th>\n",
       "      <th>title</th>\n",
       "    </tr>\n",
       "  </thead>\n",
       "  <tbody>\n",
       "    <tr>\n",
       "      <th>1128</th>\n",
       "      <td>a game-theoretic model is proposed to study th...</td>\n",
       "      <td>cs.it math.it</td>\n",
       "      <td>2007-04-30</td>\n",
       "      <td>704.3880</td>\n",
       "      <td>energy-efficient resource allocation in wirele...</td>\n",
       "    </tr>\n",
       "    <tr>\n",
       "      <th>1528</th>\n",
       "      <td>an information-theoretic approach is proposed ...</td>\n",
       "      <td>cs.it cs.cr math.it</td>\n",
       "      <td>2007-05-14</td>\n",
       "      <td>705.1919</td>\n",
       "      <td>optimal watermark embedding and detection stra...</td>\n",
       "    </tr>\n",
       "    <tr>\n",
       "      <th>1646</th>\n",
       "      <td>in random-access communication systems, the nu...</td>\n",
       "      <td>cs.it math.it</td>\n",
       "      <td>2007-05-23</td>\n",
       "      <td>705.3344</td>\n",
       "      <td>multiuser detection in a dynamic environment p...</td>\n",
       "    </tr>\n",
       "    <tr>\n",
       "      <th>1746</th>\n",
       "      <td>the space-time bit-interleaved coded modulatio...</td>\n",
       "      <td>cs.it math.it</td>\n",
       "      <td>2007-06-15</td>\n",
       "      <td>706.2310</td>\n",
       "      <td>space-time coding techniques with bit-interlea...</td>\n",
       "    </tr>\n",
       "    <tr>\n",
       "      <th>1760</th>\n",
       "      <td>this paper considers the problem of secure cod...</td>\n",
       "      <td>cs.it cs.cr math.it</td>\n",
       "      <td>2007-06-25</td>\n",
       "      <td>706.3752</td>\n",
       "      <td>secure nested codes for type ii wiretap channels</td>\n",
       "    </tr>\n",
       "  </tbody>\n",
       "</table>\n",
       "</div>"
      ],
      "text/plain": [
       "                                               abstract                 area  \\\n",
       "1128  a game-theoretic model is proposed to study th...        cs.it math.it   \n",
       "1528  an information-theoretic approach is proposed ...  cs.it cs.cr math.it   \n",
       "1646  in random-access communication systems, the nu...        cs.it math.it   \n",
       "1746  the space-time bit-interleaved coded modulatio...        cs.it math.it   \n",
       "1760  this paper considers the problem of secure cod...  cs.it cs.cr math.it   \n",
       "\n",
       "     date_create   idpaper                                              title  \n",
       "1128  2007-04-30  704.3880  energy-efficient resource allocation in wirele...  \n",
       "1528  2007-05-14  705.1919  optimal watermark embedding and detection stra...  \n",
       "1646  2007-05-23  705.3344  multiuser detection in a dynamic environment p...  \n",
       "1746  2007-06-15  706.2310  space-time coding techniques with bit-interlea...  \n",
       "1760  2007-06-25  706.3752   secure nested codes for type ii wiretap channels  "
      ]
     },
     "execution_count": 29,
     "metadata": {},
     "output_type": "execute_result"
    }
   ],
   "source": [
    "df_paper = pd.read_json('../datasets/papers.json')\n",
    "df_paper.drop(columns=['authors'], axis=1, inplace=True)\n",
    "df_paper.drop_duplicates(subset=['area', 'idpaper', 'title'], keep=False, inplace=True)\n",
    "df_paper.head()"
   ]
  },
  {
   "cell_type": "markdown",
   "metadata": {},
   "source": [
    "#### Extract features with LSA from abstract "
   ]
  },
  {
   "cell_type": "code",
   "execution_count": 30,
   "metadata": {},
   "outputs": [],
   "source": [
    "from sklearn.feature_extraction.text import TfidfVectorizer\n",
    "from sklearn.decomposition import TruncatedSVD\n",
    "from sklearn.preprocessing import Normalizer\n",
    "from sklearn.pipeline import make_pipeline\n",
    "from sklearn.externals import joblib"
   ]
  },
  {
   "cell_type": "code",
   "execution_count": 31,
   "metadata": {},
   "outputs": [],
   "source": [
    "tfidf_vectorizer = TfidfVectorizer(max_features=50000, stop_words=\"english\", use_idf=True, smooth_idf=True)\n",
    "X = tfidf_vectorizer.fit_transform(df_paper['abstract'])\n",
    "\n",
    "models = '../models/'\n",
    "\n",
    "with open(f'{models}tf_idf_vectorize.pkl', 'wb') as mtfidf:\n",
    "    joblib.dump(tfidf_vectorizer, mtfidf)\n",
    "\n",
    "svd = TruncatedSVD(n_components=400, algorithm='randomized',\n",
    "                   n_iter=10)\n",
    "normalizer = Normalizer(copy=False)\n",
    "lsa = make_pipeline(svd, normalizer)\n",
    "lsa.fit_transform(X)\n",
    "\n",
    "with open(f'{models}lsa.pkl', 'wb') as fin:\n",
    "    joblib.dump(lsa, fin)\n",
    "\n",
    "tf_idf = joblib.load(f'{models}tf_idf_vectorize.pkl')\n",
    "\n",
    "tf_idf_features = tf_idf.transform(df_paper['abstract'])\n",
    "\n",
    "lsa = joblib.load(f'{models}lsa.pkl')\n",
    "\n",
    "X = lsa.transform(tf_idf_features)"
   ]
  },
  {
   "cell_type": "code",
   "execution_count": 32,
   "metadata": {},
   "outputs": [
    {
     "data": {
      "text/plain": [
       "array([[ 0.29890191, -0.032782  ,  0.15921879, ...,  0.0144303 ,\n",
       "         0.04512589,  0.06330711],\n",
       "       [ 0.17768014,  0.0927589 , -0.08203369, ..., -0.02460668,\n",
       "        -0.01800023, -0.00575861],\n",
       "       [ 0.25304918, -0.08741606, -0.00714932, ..., -0.02840113,\n",
       "         0.04846352,  0.00649877],\n",
       "       ..., \n",
       "       [ 0.10641563, -0.09915295, -0.09373439, ..., -0.00162932,\n",
       "        -0.000319  ,  0.00334385],\n",
       "       [ 0.1587031 , -0.12127197, -0.09587623, ...,  0.01551018,\n",
       "         0.00962215, -0.01936463],\n",
       "       [ 0.17015754, -0.12863807, -0.14203677, ...,  0.01840371,\n",
       "        -0.02288986, -0.00173877]])"
      ]
     },
     "execution_count": 32,
     "metadata": {},
     "output_type": "execute_result"
    }
   ],
   "source": [
    "X"
   ]
  },
  {
   "cell_type": "markdown",
   "metadata": {},
   "source": [
    "#### Clustering K-MEANS Sklearn"
   ]
  },
  {
   "cell_type": "code",
   "execution_count": 33,
   "metadata": {},
   "outputs": [],
   "source": [
    "def kmeans(data):    \n",
    "    from sklearn.cluster import KMeans\n",
    "    %matplotlib inline\n",
    "    import matplotlib.pyplot as plt\n",
    "    import seaborn as sns; sns.set()\n",
    "\n",
    "    model = KMeans(n_clusters=2, verbose=False)\n",
    "    model.fit(data)\n",
    "\n",
    "    y_kmeans = model.predict(data)\n",
    "        \n",
    "    plt.scatter(data[:, 0], data[:, 1], c=y_kmeans, s=50, cmap='viridis')\n",
    "\n",
    "    centers = model.cluster_centers_\n",
    "    plt.scatter(centers[:, 0], centers[:, 1], c='black', s=200, alpha=0.5)"
   ]
  },
  {
   "cell_type": "code",
   "execution_count": 34,
   "metadata": {},
   "outputs": [
    {
     "data": {
      "image/png": "[encoded data removed]",
      "text/plain": [
       "<Figure size 432x288 with 1 Axes>"
      ]
     },
     "metadata": {},
     "output_type": "display_data"
    }
   ],
   "source": [
    "kmeans(X)"
   ]
  },
  {
   "cell_type": "code",
   "execution_count": null,
   "metadata": {},
   "outputs": [],
   "source": []
  }
 ],
 "metadata": {
  "kernelspec": {
   "display_name": "Python 3",
   "language": "python",
   "name": "python3"
  },
  "language_info": {
   "codemirror_mode": {
    "name": "ipython",
    "version": 3
   },
   "file_extension": ".py",
   "mimetype": "text/x-python",
   "name": "python",
   "nbconvert_exporter": "python",
   "pygments_lexer": "ipython3",
   "version": "3.6.3"
  }
 },
 "nbformat": 4,
 "nbformat_minor": 2
}
