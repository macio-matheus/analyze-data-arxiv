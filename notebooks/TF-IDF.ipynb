{
 "cells": [
  {
   "cell_type": "markdown",
   "metadata": {},
   "source": [
    "## Detecção de Comunidades em Redes de Coautoria\n",
    "\n",
    "#### Equipe:\n",
    "* Julio Sales\n",
    "* Henrique Lima\n",
    "* Mácio Matheus\n",
    "* Victor Outtes"
   ]
  },
  {
   "cell_type": "code",
   "execution_count": 2,
   "metadata": {},
   "outputs": [],
   "source": [
    "import pandas as pd\n",
    "import networkx as nx\n",
    "import math"
   ]
  },
  {
   "cell_type": "code",
   "execution_count": 2,
   "metadata": {},
   "outputs": [],
   "source": [
    "grafo = nx.read_gml('grafo.gml')"
   ]
  },
  {
   "cell_type": "code",
   "execution_count": 3,
   "metadata": {},
   "outputs": [
    {
     "data": {
      "text/plain": [
       "372"
      ]
     },
     "execution_count": 3,
     "metadata": {},
     "output_type": "execute_result"
    }
   ],
   "source": [
    "grafo.number_of_nodes()"
   ]
  },
  {
   "cell_type": "code",
   "execution_count": 4,
   "metadata": {},
   "outputs": [],
   "source": [
    "grupo = {}\n",
    "for _,node in grafo.nodes(data=True):\n",
    "    if node['community'] not in grupo.keys():\n",
    "        grupo[node['community']] = [node['allgrams'].split(';')]\n",
    "    else:\n",
    "        grupo[node['community']].append(node['allgrams'].split(';'))"
   ]
  },
  {
   "cell_type": "code",
   "execution_count": 5,
   "metadata": {},
   "outputs": [
    {
     "data": {
      "text/plain": [
       "10"
      ]
     },
     "execution_count": 5,
     "metadata": {},
     "output_type": "execute_result"
    }
   ],
   "source": [
    "len(grupo)"
   ]
  },
  {
   "cell_type": "code",
   "execution_count": 6,
   "metadata": {},
   "outputs": [],
   "source": [
    "def juntar_grupos(dic, retirar):\n",
    "    dic2 = {key: val for key, val in dic.items() if key != retirar}\n",
    "    retorno = []\n",
    "    for k in dic2.keys():\n",
    "        retorno.append(sum(dic2[k], []))\n",
    "    return sum(retorno, [])"
   ]
  },
  {
   "cell_type": "code",
   "execution_count": 7,
   "metadata": {},
   "outputs": [],
   "source": [
    "def tf(term, group):\n",
    "    return group.count(term)/len(group)"
   ]
  },
  {
   "cell_type": "code",
   "execution_count": 8,
   "metadata": {},
   "outputs": [],
   "source": [
    "def idf(term, exclude):\n",
    "    g_l = juntar_grupos(grupo, exclude)\n",
    "    matches = len([True for text in g_l if term in text])\n",
    "    return math.log(len(g_l) / matches) if matches else 0.0"
   ]
  },
  {
   "cell_type": "code",
   "execution_count": 9,
   "metadata": {},
   "outputs": [],
   "source": [
    "def tf_idf(term, group, g_name):\n",
    "    return tf(term, group) * idf(term, g_name)"
   ]
  },
  {
   "cell_type": "code",
   "execution_count": 10,
   "metadata": {},
   "outputs": [
    {
     "name": "stdout",
     "output_type": "stream",
     "text": [
      "Grupo 6:\n",
      "consistency    0.016023\n",
      "algorithm      0.012840\n",
      "Bayesian       0.012208\n",
      "paper          0.011573\n",
      "complexity     0.009529\n",
      "algorithms     0.008580\n",
      "models         0.007969\n",
      "influence      0.007323\n",
      "dominance      0.007256\n",
      "learning       0.006835\n",
      "dtype: float64\n",
      "---------------------------------------\n",
      "Grupo 116:\n",
      "possibilistic         0.053900\n",
      "possibility           0.027532\n",
      "fuzzy                 0.025536\n",
      "theory                0.023397\n",
      "uncertainty           0.022772\n",
      "knowledge             0.019986\n",
      "paper                 0.016865\n",
      "possibility theory    0.016833\n",
      "bases                 0.015775\n",
      "'s                    0.015269\n",
      "dtype: float64\n",
      "---------------------------------------\n",
      "Grupo 151:\n",
      "AND/OR              0.040044\n",
      "market              0.024687\n",
      "algorithms          0.022794\n",
      "inference           0.018469\n",
      "graphical           0.017999\n",
      "Hybrid              0.015282\n",
      "graphical models    0.014809\n",
      "sampling            0.014472\n",
      "models              0.014169\n",
      "Propagation         0.013898\n",
      "dtype: float64\n",
      "---------------------------------------\n",
      "Grupo 134:\n",
      "algorithm     0.015767\n",
      "planning      0.015675\n",
      "optimal       0.013683\n",
      "heuristic     0.011933\n",
      "search        0.011427\n",
      "decision      0.010911\n",
      "approach      0.010801\n",
      "algorithms    0.010757\n",
      "policy        0.010655\n",
      "methods       0.009986\n",
      "dtype: float64\n",
      "---------------------------------------\n",
      "Grupo 104:\n",
      "Bayesian     0.011222\n",
      "algorithm    0.010592\n",
      "decision     0.010302\n",
      "using        0.010021\n",
      "approach     0.009592\n",
      "variables    0.009107\n",
      "method       0.008908\n",
      "learning     0.008850\n",
      "time         0.008827\n",
      "data         0.008240\n",
      "dtype: float64\n",
      "---------------------------------------\n",
      "Grupo 80:\n",
      "Bayesian         0.023553\n",
      "networks         0.020620\n",
      "inference        0.017391\n",
      "probabilities    0.016147\n",
      "network          0.015938\n",
      "evidence         0.015455\n",
      "SPI              0.014544\n",
      "probability      0.013228\n",
      "reasoning        0.013012\n",
      "algorithm        0.012411\n",
      "dtype: float64\n",
      "---------------------------------------\n",
      "Grupo 153:\n",
      "models           0.017687\n",
      "Bayesian         0.016160\n",
      "data             0.014731\n",
      "model            0.014521\n",
      "inference        0.013181\n",
      "methods          0.012662\n",
      "causal           0.012568\n",
      "decision         0.011652\n",
      "networks         0.011028\n",
      "probabilistic    0.010625\n",
      "dtype: float64\n",
      "---------------------------------------\n",
      "Grupo 145:\n",
      "learning        0.021898\n",
      "planning        0.020330\n",
      "variables       0.017236\n",
      "distribution    0.016307\n",
      "query           0.015021\n",
      "linear          0.014989\n",
      "policy          0.014517\n",
      "Belief          0.014387\n",
      "parameters      0.014042\n",
      "methods         0.013095\n",
      "dtype: float64\n",
      "---------------------------------------\n",
      "Grupo 156:\n",
      "models        0.016567\n",
      "causal        0.015414\n",
      "data          0.014535\n",
      "Bayesian      0.014381\n",
      "model         0.013912\n",
      "variables     0.013274\n",
      "paper         0.012298\n",
      "networks      0.011438\n",
      "algorithms    0.011092\n",
      "inference     0.010472\n",
      "dtype: float64\n",
      "---------------------------------------\n",
      "Grupo 256:\n",
      "networks                  0.022772\n",
      "qualitative               0.017587\n",
      "influence                 0.017305\n",
      "junction                  0.016905\n",
      "probabilistic             0.015961\n",
      "junction tree             0.015828\n",
      "method                    0.015130\n",
      "probabilistic networks    0.014776\n",
      "Bayesian                  0.014767\n",
      "tree                      0.014227\n",
      "dtype: float64\n",
      "---------------------------------------\n"
     ]
    }
   ],
   "source": [
    "for g in grupo.keys():\n",
    "    g_ = sum(grupo[g], [])\n",
    "    df = pd.DataFrame(columns=set(g_))\n",
    "    for term in g_:\n",
    "        df[term] = [tf_idf(term, g_, g)]\n",
    "    print('Grupo {}:'.format(g))\n",
    "    print(df.sum().sort_values(ascending=False)[:10])\n",
    "    print('---------------------------------------')"
   ]
  },
  {
   "cell_type": "code",
   "execution_count": null,
   "metadata": {},
   "outputs": [],
   "source": []
  }
 ],
 "metadata": {
  "kernelspec": {
   "display_name": "Python 3",
   "language": "python",
   "name": "python3"
  },
  "language_info": {
   "codemirror_mode": {
    "name": "ipython",
    "version": 3
   },
   "file_extension": ".py",
   "mimetype": "text/x-python",
   "name": "python",
   "nbconvert_exporter": "python",
   "pygments_lexer": "ipython3",
   "version": "3.6.4"
  }
 },
 "nbformat": 4,
 "nbformat_minor": 2
}
